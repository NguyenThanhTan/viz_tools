{
 "cells": [
  {
   "cell_type": "code",
   "execution_count": 1,
   "metadata": {},
   "outputs": [],
   "source": [
    "import pandas as pd\n",
    "import os\n",
    "import numpy as np\n",
    "from scipy.ndimage import gaussian_filter1d\n",
    "from typing import Tuple, List\n",
    "import glob"
   ]
  },
  {
   "attachments": {},
   "cell_type": "markdown",
   "metadata": {},
   "source": [
    "# Get an interval of segmentation data (Overlay2)"
   ]
  },
  {
   "attachments": {},
   "cell_type": "markdown",
   "metadata": {},
   "source": [
    "This part convert segmentation data from an interval in a movie into the format that can be used by Overlay2."
   ]
  },
  {
   "cell_type": "code",
   "execution_count": 2,
   "metadata": {},
   "outputs": [],
   "source": [
    "def get_frequency_ground_truth(second_boundaries, second_interval=1,\n",
    "                            end_second=555) -> Tuple:\n",
    "    frequency, bins = np.histogram(second_boundaries,\n",
    "                                bins=np.arange(0, end_second + second_interval,\n",
    "                                                second_interval))\n",
    "    return frequency, bins\n",
    "\n",
    "def get_point_biserial(boundaries_binned, binned_comp, scale=True) -> float:\n",
    "    M_1 = np.mean(binned_comp[boundaries_binned != 0])\n",
    "    M_0 = np.mean(binned_comp[boundaries_binned == 0])\n",
    "\n",
    "    n_1 = np.sum(boundaries_binned != 0)\n",
    "    n_0 = np.sum(boundaries_binned == 0)\n",
    "    n = n_1 + n_0\n",
    "\n",
    "    s = np.std(binned_comp)\n",
    "    r_pb = (M_1 - M_0) / s * np.sqrt(n_1 * n_0 / (float(n) ** 2))\n",
    "    if scale:\n",
    "        num_boundaries = boundaries_binned.astype(bool).sum()\n",
    "        fake_upper = np.zeros(np.shape(binned_comp), dtype=bool)\n",
    "        fake_upper[np.argsort(binned_comp)[-num_boundaries:]] = True\n",
    "        M_1 = np.mean(binned_comp[fake_upper != 0])\n",
    "        M_0 = np.mean(binned_comp[fake_upper == 0])\n",
    "        r_upper = (M_1 - M_0) / s * np.sqrt(n_1 * n_0 / (float(n) ** 2))\n",
    "\n",
    "        fake_lower = np.zeros(np.shape(binned_comp), dtype=bool)\n",
    "        fake_lower[np.argsort(binned_comp)[:num_boundaries]] = True\n",
    "        M_1 = np.mean(binned_comp[fake_lower != 0])\n",
    "        M_0 = np.mean(binned_comp[fake_lower == 0])\n",
    "        r_lower = (M_1 - M_0) / s * np.sqrt(n_1 * n_0 / (float(n) ** 2))\n",
    "        return (r_pb - r_lower) / (r_upper - r_lower)\n",
    "    else:\n",
    "        return r_pb\n",
    "class SegmentationVideo:\n",
    "    \"\"\"\n",
    "    This class receives a data_frame and a video_path to extract segmentation results\n",
    "    for that video\n",
    "    \"\"\"\n",
    "\n",
    "    def __init__(self, data_frame, video_path):\n",
    "        video_path = video_path.replace('kinect', 'C1').replace('C2', 'C1')\n",
    "        if 'trim' not in video_path:\n",
    "            video_path = video_path + '_trim'\n",
    "        if 'C1' not in video_path:\n",
    "            video_path = video_path + '_C1'\n",
    "        self.data_frame = data_frame[\n",
    "            data_frame['Movie'] == os.path.splitext(os.path.basename(video_path))[0]]\n",
    "        self.n_participants = 0\n",
    "        self.biserials = None\n",
    "        self.seg_points = None\n",
    "        self.gt_freqs = None\n",
    "        self.gt_boundaries = None\n",
    "\n",
    "    @staticmethod\n",
    "    def string_to_segments(raw_string: str) -> np.ndarray:\n",
    "        \"\"\"\n",
    "        This method turn a raw string to a list of timepoints\n",
    "        :param raw_string: a string in csv file\n",
    "        :return: list_of_segments: a list of timepoints\n",
    "        \"\"\"\n",
    "        raw_string = raw_string.split('\\n')\n",
    "        list_of_segments = [float(x.split(' ')[1]) for x in raw_string if 'BreakPoint' in x]\n",
    "        list_of_segments = np.array(list_of_segments)\n",
    "        return list_of_segments\n",
    "\n",
    "    \n",
    "    def get_gt_freqs(self, second_interval=1, end_second=555):\n",
    "        all_seg_points = np.hstack(self.seg_points)\n",
    "        self.gt_boundaries, _ = get_frequency_ground_truth(all_seg_points,\n",
    "                                                           second_interval=second_interval,\n",
    "                                                           end_second=end_second)\n",
    "        self.gt_freqs = self.gt_boundaries / self.n_participants\n",
    "        self.gt_freqs = gaussian_filter1d(self.gt_freqs, 2)\n",
    "\n",
    "        return self.gt_freqs\n",
    "\n",
    "    def get_biserial_subjects(self, second_interval=1, end_second=555, number_boundary_range=(1, 555)):\n",
    "        self.biserials = []\n",
    "        if self.gt_freqs is None:\n",
    "            self.get_gt_freqs(second_interval=second_interval, end_second=end_second)\n",
    "\n",
    "        for seg_point in self.seg_points:\n",
    "            participant_seg, _ = get_frequency_ground_truth(seg_point,\n",
    "                                                            second_interval=second_interval,\n",
    "                                                            end_second=end_second)\n",
    "            # if sum(participant_seg) == 0:\n",
    "            #     logger.info(f'Subject has no segments within end_second={end_second}')\n",
    "            #     continue\n",
    "            if sum(participant_seg) < number_boundary_range[0] or sum(participant_seg) > number_boundary_range[1]:\n",
    "                print(f'Subject has {sum(participant_seg)} boundaries, outside of {number_boundary_range}')\n",
    "                continue\n",
    "\n",
    "            point = get_point_biserial(participant_seg.astype(bool), self.gt_freqs)\n",
    "            if not np.isnan(point):  # some participants yield null bicorr\n",
    "                self.biserials.append(point)\n",
    "        return self.biserials\n",
    "\n",
    "    def preprocess_segments(self, second_interval=1):\n",
    "        # Preprocess individual segmentation to avoid undue influence\n",
    "        new_seg_points = []\n",
    "        for seg in self.seg_points:\n",
    "            if len(seg) > 0:\n",
    "                new_seg = np.array([])\n",
    "                # For an interval, each participant have at most one vote\n",
    "                for i in range(0, round(min(max(seg), 1500)) + 1, second_interval):\n",
    "                    # seg is a list of timepoints, averaging all timepoints within a second\n",
    "                    if seg[(seg > i) & (seg < i + 1)].shape[0]:\n",
    "                        new_seg = np.hstack([new_seg, seg[(seg > i) & (seg < i + 1)].mean()])\n",
    "            else:\n",
    "                new_seg = seg\n",
    "            new_seg_points.append(new_seg)\n",
    "        self.seg_points = new_seg_points\n",
    "\n",
    "        average = np.mean([len(seg) for seg in self.seg_points if len(seg)])\n",
    "        std = np.std([len(seg) for seg in self.seg_points if len(seg)])\n",
    "        empty = 0\n",
    "        out_lier = 0\n",
    "        new_seg_points = []\n",
    "        for seg in self.seg_points:\n",
    "            if len(seg) > 0:\n",
    "                if average + 2 * std > len(seg) > average - 2 * std:\n",
    "                    new_seg_points.append(seg)\n",
    "                else:\n",
    "                    out_lier += 1\n",
    "            else:\n",
    "                empty += 1\n",
    "        assert len(self.seg_points) == empty + out_lier + len(new_seg_points)\n",
    "        # logger.info(f'{empty} Empty participants and {out_lier} Outlier participants')\n",
    "        self.seg_points = new_seg_points\n",
    "        self.n_participants = len(self.seg_points)\n",
    "\n",
    "    def get_human_segments(self, n_annotators=100, condition='coarse', second_interval=1) -> List:\n",
    "        \"\"\"\n",
    "        This method extract a list of segmentations, each according to an annotator\n",
    "        :param n_annotators: number of annotators to return\n",
    "        :param condition: coarse or fine grains\n",
    "        :param second_interval: interval to bin segmentations\n",
    "        :return:\n",
    "        \"\"\"\n",
    "        seg = self.data_frame[self.data_frame['Condition'] == condition]\n",
    "        # parse annotations, from string to a list of breakpoints for each annotation\n",
    "        annotators = list(set(seg.workerId))\n",
    "        # logger.info(f'Total of participants {len(annotators)}')\n",
    "        seg_points = []\n",
    "        for a in annotators:\n",
    "            tmp = seg[seg.workerId == a].Sec.to_numpy()\n",
    "            seg_points.append(tmp)\n",
    "        # seg_processed = seg['segment1'].apply(SegmentationVideo.string_to_segments)\n",
    "        self.seg_points = seg_points[:n_annotators]\n",
    "        self.preprocess_segments(second_interval=second_interval)\n",
    "        return self.seg_points"
   ]
  },
  {
   "cell_type": "code",
   "execution_count": 5,
   "metadata": {},
   "outputs": [],
   "source": [
    "seg_data = pd.read_csv('./seg_data_analysis_clean.csv')\n",
    "movie = '3.3.4_C1_trim.mp4'\n",
    "start = 345\n",
    "end = 385\n",
    "seg_video = SegmentationVideo(data_frame=seg_data, video_path=movie)\n",
    "seg_video.get_human_segments(n_annotators=100, condition='fine', second_interval=1)\n",
    "fine_boundaries = [x[(x > start) * (x < end)] for x in seg_video.seg_points]\n",
    "fine_boundaries = np.concatenate(fine_boundaries)\n",
    "# this function aggregate subject boundaries, apply a gaussian kernel and calculate correlations for subjects\n",
    "gt_fine = seg_video.get_gt_freqs(second_interval=1, end_second=500)\n",
    "\n",
    "seg_video = SegmentationVideo(data_frame=seg_data, video_path=movie)\n",
    "seg_video.get_human_segments(n_annotators=100, condition='coarse', second_interval=1)\n",
    "coarse_boundaries = [x[(x > start) * (x < end)] for x in seg_video.seg_points]\n",
    "coarse_boundaries = np.concatenate(coarse_boundaries)\n",
    "# this function aggregate subject boundaries, apply a gaussian kernel and calculate correlations for subjects\n",
    "gt_coarse = seg_video.get_gt_freqs(second_interval=1, end_second=500)"
   ]
  },
  {
   "cell_type": "code",
   "execution_count": 10,
   "metadata": {},
   "outputs": [
    {
     "data": {
      "application/vnd.plotly.v1+json": {
       "config": {
        "plotlyServerURL": "https://plot.ly"
       },
       "data": [
        {
         "hovertemplate": "variable=0<br>index=%{x}<br>value=%{y}<extra></extra>",
         "legendgroup": "0",
         "line": {
          "color": "#636efa",
          "dash": "solid"
         },
         "mode": "lines",
         "name": "0",
         "orientation": "v",
         "showlegend": true,
         "type": "scatter",
         "x": [
          0,
          1,
          2,
          3,
          4,
          5,
          6,
          7,
          8,
          9,
          10,
          11,
          12,
          13,
          14,
          15,
          16,
          17,
          18,
          19,
          20,
          21,
          22,
          23,
          24,
          25,
          26,
          27,
          28,
          29,
          30,
          31,
          32,
          33,
          34,
          35,
          36,
          37,
          38,
          39
         ],
         "xaxis": "x",
         "y": [
          0.0003779851100524669,
          0.0016490327325633138,
          0.005694615592492105,
          0.015601027447702056,
          0.03395563794310931,
          0.05880604034626628,
          0.0812021274460235,
          0.08966398919342483,
          0.07950959063421872,
          0.056951486469870735,
          0.033188541310735384,
          0.0158620617909302,
          0.006323408485227351,
          0.0024808509542445113,
          0.0025107096216434362,
          0.0069119128094388355,
          0.018897422567109474,
          0.0426319295335681,
          0.07920025098661447,
          0.12269525482806735,
          0.16087368946659297,
          0.18201681173913903,
          0.18438032343966262,
          0.17934798204913488,
          0.1807371440712856,
          0.18790820496511734,
          0.1844972918890791,
          0.15827079371249625,
          0.11711442497222861,
          0.08069559521770607,
          0.06086809250138715,
          0.054214329069803835,
          0.04999113984940427,
          0.041065549676968134,
          0.027990083351954402,
          0.015434337512775172,
          0.0068891450174620155,
          0.002721103406456723,
          0.0016887331243540299,
          0.002663317466001627
         ],
         "yaxis": "y"
        },
        {
         "hovertemplate": "variable=0<br>index=%{x}<br>value=%{y}<extra></extra>",
         "legendgroup": "0",
         "line": {
          "color": "#636efa",
          "dash": "solid"
         },
         "mode": "lines",
         "name": "0",
         "orientation": "v",
         "showlegend": true,
         "type": "scatter",
         "x": [
          0,
          1,
          2,
          3,
          4,
          5,
          6,
          7,
          8,
          9,
          10,
          11,
          12,
          13,
          14,
          15,
          16,
          17,
          18,
          19,
          20,
          21,
          22,
          23,
          24,
          25,
          26,
          27,
          28,
          29,
          30,
          31,
          32,
          33,
          34,
          35,
          36,
          37,
          38,
          39
         ],
         "xaxis": "x2",
         "y": [
          0.0009998502950851423,
          0.0023985161705454604,
          0.004481018139457372,
          0.0065198429216589025,
          0.0073879499209164815,
          0.0065198429216589025,
          0.004481018139457372,
          0.0023985161705454604,
          0.0009998502950851423,
          0.0003246038652883655,
          0.00008207271009616871,
          0.000016161074833584753,
          0.000004956762190565594,
          0.000023596218119433145,
          0.00013303431569220575,
          0.0005944182136963048,
          0.002104217825547162,
          0.005973845813568325,
          0.01369742097828286,
          0.025631989789406884,
          0.03984272553295144,
          0.053007966783083,
          0.06352526086323051,
          0.07366496250248816,
          0.08740426427940193,
          0.1049795150930701,
          0.11991632428134645,
          0.12286522942660068,
          0.10918955916405022,
          0.08304172197498927,
          0.05446123236530396,
          0.03255409050173351,
          0.02053781678011864,
          0.015921902028562713,
          0.014178771710281415,
          0.012123832379115245,
          0.008963073147347947,
          0.005485825196733079,
          0.002723120035833826,
          0.0010844013862765939
         ],
         "yaxis": "y2"
        }
       ],
       "layout": {
        "annotations": [
         {
          "font": {
           "size": 16
          },
          "showarrow": false,
          "text": "Fine",
          "x": 0.5,
          "xanchor": "center",
          "xref": "paper",
          "y": 1,
          "yanchor": "bottom",
          "yref": "paper"
         },
         {
          "font": {
           "size": 16
          },
          "showarrow": false,
          "text": "Coarse",
          "x": 0.5,
          "xanchor": "center",
          "xref": "paper",
          "y": 0.375,
          "yanchor": "bottom",
          "yref": "paper"
         }
        ],
        "template": {
         "data": {
          "bar": [
           {
            "error_x": {
             "color": "#2a3f5f"
            },
            "error_y": {
             "color": "#2a3f5f"
            },
            "marker": {
             "line": {
              "color": "#E5ECF6",
              "width": 0.5
             },
             "pattern": {
              "fillmode": "overlay",
              "size": 10,
              "solidity": 0.2
             }
            },
            "type": "bar"
           }
          ],
          "barpolar": [
           {
            "marker": {
             "line": {
              "color": "#E5ECF6",
              "width": 0.5
             },
             "pattern": {
              "fillmode": "overlay",
              "size": 10,
              "solidity": 0.2
             }
            },
            "type": "barpolar"
           }
          ],
          "carpet": [
           {
            "aaxis": {
             "endlinecolor": "#2a3f5f",
             "gridcolor": "white",
             "linecolor": "white",
             "minorgridcolor": "white",
             "startlinecolor": "#2a3f5f"
            },
            "baxis": {
             "endlinecolor": "#2a3f5f",
             "gridcolor": "white",
             "linecolor": "white",
             "minorgridcolor": "white",
             "startlinecolor": "#2a3f5f"
            },
            "type": "carpet"
           }
          ],
          "choropleth": [
           {
            "colorbar": {
             "outlinewidth": 0,
             "ticks": ""
            },
            "type": "choropleth"
           }
          ],
          "contour": [
           {
            "colorbar": {
             "outlinewidth": 0,
             "ticks": ""
            },
            "colorscale": [
             [
              0,
              "#0d0887"
             ],
             [
              0.1111111111111111,
              "#46039f"
             ],
             [
              0.2222222222222222,
              "#7201a8"
             ],
             [
              0.3333333333333333,
              "#9c179e"
             ],
             [
              0.4444444444444444,
              "#bd3786"
             ],
             [
              0.5555555555555556,
              "#d8576b"
             ],
             [
              0.6666666666666666,
              "#ed7953"
             ],
             [
              0.7777777777777778,
              "#fb9f3a"
             ],
             [
              0.8888888888888888,
              "#fdca26"
             ],
             [
              1,
              "#f0f921"
             ]
            ],
            "type": "contour"
           }
          ],
          "contourcarpet": [
           {
            "colorbar": {
             "outlinewidth": 0,
             "ticks": ""
            },
            "type": "contourcarpet"
           }
          ],
          "heatmap": [
           {
            "colorbar": {
             "outlinewidth": 0,
             "ticks": ""
            },
            "colorscale": [
             [
              0,
              "#0d0887"
             ],
             [
              0.1111111111111111,
              "#46039f"
             ],
             [
              0.2222222222222222,
              "#7201a8"
             ],
             [
              0.3333333333333333,
              "#9c179e"
             ],
             [
              0.4444444444444444,
              "#bd3786"
             ],
             [
              0.5555555555555556,
              "#d8576b"
             ],
             [
              0.6666666666666666,
              "#ed7953"
             ],
             [
              0.7777777777777778,
              "#fb9f3a"
             ],
             [
              0.8888888888888888,
              "#fdca26"
             ],
             [
              1,
              "#f0f921"
             ]
            ],
            "type": "heatmap"
           }
          ],
          "heatmapgl": [
           {
            "colorbar": {
             "outlinewidth": 0,
             "ticks": ""
            },
            "colorscale": [
             [
              0,
              "#0d0887"
             ],
             [
              0.1111111111111111,
              "#46039f"
             ],
             [
              0.2222222222222222,
              "#7201a8"
             ],
             [
              0.3333333333333333,
              "#9c179e"
             ],
             [
              0.4444444444444444,
              "#bd3786"
             ],
             [
              0.5555555555555556,
              "#d8576b"
             ],
             [
              0.6666666666666666,
              "#ed7953"
             ],
             [
              0.7777777777777778,
              "#fb9f3a"
             ],
             [
              0.8888888888888888,
              "#fdca26"
             ],
             [
              1,
              "#f0f921"
             ]
            ],
            "type": "heatmapgl"
           }
          ],
          "histogram": [
           {
            "marker": {
             "pattern": {
              "fillmode": "overlay",
              "size": 10,
              "solidity": 0.2
             }
            },
            "type": "histogram"
           }
          ],
          "histogram2d": [
           {
            "colorbar": {
             "outlinewidth": 0,
             "ticks": ""
            },
            "colorscale": [
             [
              0,
              "#0d0887"
             ],
             [
              0.1111111111111111,
              "#46039f"
             ],
             [
              0.2222222222222222,
              "#7201a8"
             ],
             [
              0.3333333333333333,
              "#9c179e"
             ],
             [
              0.4444444444444444,
              "#bd3786"
             ],
             [
              0.5555555555555556,
              "#d8576b"
             ],
             [
              0.6666666666666666,
              "#ed7953"
             ],
             [
              0.7777777777777778,
              "#fb9f3a"
             ],
             [
              0.8888888888888888,
              "#fdca26"
             ],
             [
              1,
              "#f0f921"
             ]
            ],
            "type": "histogram2d"
           }
          ],
          "histogram2dcontour": [
           {
            "colorbar": {
             "outlinewidth": 0,
             "ticks": ""
            },
            "colorscale": [
             [
              0,
              "#0d0887"
             ],
             [
              0.1111111111111111,
              "#46039f"
             ],
             [
              0.2222222222222222,
              "#7201a8"
             ],
             [
              0.3333333333333333,
              "#9c179e"
             ],
             [
              0.4444444444444444,
              "#bd3786"
             ],
             [
              0.5555555555555556,
              "#d8576b"
             ],
             [
              0.6666666666666666,
              "#ed7953"
             ],
             [
              0.7777777777777778,
              "#fb9f3a"
             ],
             [
              0.8888888888888888,
              "#fdca26"
             ],
             [
              1,
              "#f0f921"
             ]
            ],
            "type": "histogram2dcontour"
           }
          ],
          "mesh3d": [
           {
            "colorbar": {
             "outlinewidth": 0,
             "ticks": ""
            },
            "type": "mesh3d"
           }
          ],
          "parcoords": [
           {
            "line": {
             "colorbar": {
              "outlinewidth": 0,
              "ticks": ""
             }
            },
            "type": "parcoords"
           }
          ],
          "pie": [
           {
            "automargin": true,
            "type": "pie"
           }
          ],
          "scatter": [
           {
            "marker": {
             "colorbar": {
              "outlinewidth": 0,
              "ticks": ""
             }
            },
            "type": "scatter"
           }
          ],
          "scatter3d": [
           {
            "line": {
             "colorbar": {
              "outlinewidth": 0,
              "ticks": ""
             }
            },
            "marker": {
             "colorbar": {
              "outlinewidth": 0,
              "ticks": ""
             }
            },
            "type": "scatter3d"
           }
          ],
          "scattercarpet": [
           {
            "marker": {
             "colorbar": {
              "outlinewidth": 0,
              "ticks": ""
             }
            },
            "type": "scattercarpet"
           }
          ],
          "scattergeo": [
           {
            "marker": {
             "colorbar": {
              "outlinewidth": 0,
              "ticks": ""
             }
            },
            "type": "scattergeo"
           }
          ],
          "scattergl": [
           {
            "marker": {
             "colorbar": {
              "outlinewidth": 0,
              "ticks": ""
             }
            },
            "type": "scattergl"
           }
          ],
          "scattermapbox": [
           {
            "marker": {
             "colorbar": {
              "outlinewidth": 0,
              "ticks": ""
             }
            },
            "type": "scattermapbox"
           }
          ],
          "scatterpolar": [
           {
            "marker": {
             "colorbar": {
              "outlinewidth": 0,
              "ticks": ""
             }
            },
            "type": "scatterpolar"
           }
          ],
          "scatterpolargl": [
           {
            "marker": {
             "colorbar": {
              "outlinewidth": 0,
              "ticks": ""
             }
            },
            "type": "scatterpolargl"
           }
          ],
          "scatterternary": [
           {
            "marker": {
             "colorbar": {
              "outlinewidth": 0,
              "ticks": ""
             }
            },
            "type": "scatterternary"
           }
          ],
          "surface": [
           {
            "colorbar": {
             "outlinewidth": 0,
             "ticks": ""
            },
            "colorscale": [
             [
              0,
              "#0d0887"
             ],
             [
              0.1111111111111111,
              "#46039f"
             ],
             [
              0.2222222222222222,
              "#7201a8"
             ],
             [
              0.3333333333333333,
              "#9c179e"
             ],
             [
              0.4444444444444444,
              "#bd3786"
             ],
             [
              0.5555555555555556,
              "#d8576b"
             ],
             [
              0.6666666666666666,
              "#ed7953"
             ],
             [
              0.7777777777777778,
              "#fb9f3a"
             ],
             [
              0.8888888888888888,
              "#fdca26"
             ],
             [
              1,
              "#f0f921"
             ]
            ],
            "type": "surface"
           }
          ],
          "table": [
           {
            "cells": {
             "fill": {
              "color": "#EBF0F8"
             },
             "line": {
              "color": "white"
             }
            },
            "header": {
             "fill": {
              "color": "#C8D4E3"
             },
             "line": {
              "color": "white"
             }
            },
            "type": "table"
           }
          ]
         },
         "layout": {
          "annotationdefaults": {
           "arrowcolor": "#2a3f5f",
           "arrowhead": 0,
           "arrowwidth": 1
          },
          "autotypenumbers": "strict",
          "coloraxis": {
           "colorbar": {
            "outlinewidth": 0,
            "ticks": ""
           }
          },
          "colorscale": {
           "diverging": [
            [
             0,
             "#8e0152"
            ],
            [
             0.1,
             "#c51b7d"
            ],
            [
             0.2,
             "#de77ae"
            ],
            [
             0.3,
             "#f1b6da"
            ],
            [
             0.4,
             "#fde0ef"
            ],
            [
             0.5,
             "#f7f7f7"
            ],
            [
             0.6,
             "#e6f5d0"
            ],
            [
             0.7,
             "#b8e186"
            ],
            [
             0.8,
             "#7fbc41"
            ],
            [
             0.9,
             "#4d9221"
            ],
            [
             1,
             "#276419"
            ]
           ],
           "sequential": [
            [
             0,
             "#0d0887"
            ],
            [
             0.1111111111111111,
             "#46039f"
            ],
            [
             0.2222222222222222,
             "#7201a8"
            ],
            [
             0.3333333333333333,
             "#9c179e"
            ],
            [
             0.4444444444444444,
             "#bd3786"
            ],
            [
             0.5555555555555556,
             "#d8576b"
            ],
            [
             0.6666666666666666,
             "#ed7953"
            ],
            [
             0.7777777777777778,
             "#fb9f3a"
            ],
            [
             0.8888888888888888,
             "#fdca26"
            ],
            [
             1,
             "#f0f921"
            ]
           ],
           "sequentialminus": [
            [
             0,
             "#0d0887"
            ],
            [
             0.1111111111111111,
             "#46039f"
            ],
            [
             0.2222222222222222,
             "#7201a8"
            ],
            [
             0.3333333333333333,
             "#9c179e"
            ],
            [
             0.4444444444444444,
             "#bd3786"
            ],
            [
             0.5555555555555556,
             "#d8576b"
            ],
            [
             0.6666666666666666,
             "#ed7953"
            ],
            [
             0.7777777777777778,
             "#fb9f3a"
            ],
            [
             0.8888888888888888,
             "#fdca26"
            ],
            [
             1,
             "#f0f921"
            ]
           ]
          },
          "colorway": [
           "#636efa",
           "#EF553B",
           "#00cc96",
           "#ab63fa",
           "#FFA15A",
           "#19d3f3",
           "#FF6692",
           "#B6E880",
           "#FF97FF",
           "#FECB52"
          ],
          "font": {
           "color": "#2a3f5f"
          },
          "geo": {
           "bgcolor": "white",
           "lakecolor": "white",
           "landcolor": "#E5ECF6",
           "showlakes": true,
           "showland": true,
           "subunitcolor": "white"
          },
          "hoverlabel": {
           "align": "left"
          },
          "hovermode": "closest",
          "mapbox": {
           "style": "light"
          },
          "paper_bgcolor": "white",
          "plot_bgcolor": "#E5ECF6",
          "polar": {
           "angularaxis": {
            "gridcolor": "white",
            "linecolor": "white",
            "ticks": ""
           },
           "bgcolor": "#E5ECF6",
           "radialaxis": {
            "gridcolor": "white",
            "linecolor": "white",
            "ticks": ""
           }
          },
          "scene": {
           "xaxis": {
            "backgroundcolor": "#E5ECF6",
            "gridcolor": "white",
            "gridwidth": 2,
            "linecolor": "white",
            "showbackground": true,
            "ticks": "",
            "zerolinecolor": "white"
           },
           "yaxis": {
            "backgroundcolor": "#E5ECF6",
            "gridcolor": "white",
            "gridwidth": 2,
            "linecolor": "white",
            "showbackground": true,
            "ticks": "",
            "zerolinecolor": "white"
           },
           "zaxis": {
            "backgroundcolor": "#E5ECF6",
            "gridcolor": "white",
            "gridwidth": 2,
            "linecolor": "white",
            "showbackground": true,
            "ticks": "",
            "zerolinecolor": "white"
           }
          },
          "shapedefaults": {
           "line": {
            "color": "#2a3f5f"
           }
          },
          "ternary": {
           "aaxis": {
            "gridcolor": "white",
            "linecolor": "white",
            "ticks": ""
           },
           "baxis": {
            "gridcolor": "white",
            "linecolor": "white",
            "ticks": ""
           },
           "bgcolor": "#E5ECF6",
           "caxis": {
            "gridcolor": "white",
            "linecolor": "white",
            "ticks": ""
           }
          },
          "title": {
           "x": 0.05
          },
          "xaxis": {
           "automargin": true,
           "gridcolor": "white",
           "linecolor": "white",
           "ticks": "",
           "title": {
            "standoff": 15
           },
           "zerolinecolor": "white",
           "zerolinewidth": 2
          },
          "yaxis": {
           "automargin": true,
           "gridcolor": "white",
           "linecolor": "white",
           "ticks": "",
           "title": {
            "standoff": 15
           },
           "zerolinecolor": "white",
           "zerolinewidth": 2
          }
         }
        },
        "xaxis": {
         "anchor": "y",
         "domain": [
          0,
          1
         ]
        },
        "xaxis2": {
         "anchor": "y2",
         "domain": [
          0,
          1
         ]
        },
        "yaxis": {
         "anchor": "x",
         "domain": [
          0.625,
          1
         ]
        },
        "yaxis2": {
         "anchor": "x2",
         "domain": [
          0,
          0.375
         ]
        }
       }
      }
     },
     "metadata": {},
     "output_type": "display_data"
    }
   ],
   "source": [
    "import plotly.express as px\n",
    "import matplotlib.pyplot as plt\n",
    "from plotly.subplots import make_subplots\n",
    "fig = make_subplots(rows=2, cols=1, subplot_titles=(\"Fine\", \"Coarse\"))\n",
    "fig.add_trace(px.line(gt_fine[345:385], title='fine').data[0], row=1, col=1)\n",
    "fig.add_trace(px.line(gt_coarse[345:385], title='coarse').data[0], row=2, col=1)\n",
    "fig.show()"
   ]
  },
  {
   "cell_type": "code",
   "execution_count": 9,
   "metadata": {},
   "outputs": [],
   "source": [
    "coarse_boundaries = coarse_boundaries - start\n",
    "fine_boundaries = fine_boundaries - start\n",
    "with open(f'3.3.4_C1_{start}_{end}_cut.txt', 'wt') as f:\n",
    "    f.write('Coarse ' + ' '.join(coarse_boundaries.astype(str)) + '\\n')\n",
    "    f.write('Fine ' + ' '.join(fine_boundaries.astype(str)) + '\\n')"
   ]
  },
  {
   "attachments": {},
   "cell_type": "markdown",
   "metadata": {},
   "source": [
    "# Get convoluted features (Overlay1)"
   ]
  },
  {
   "attachments": {},
   "cell_type": "markdown",
   "metadata": {},
   "source": [
    "This part convert visual statistics (part of data quality checking for fMRI) into the format that can be used by Overlay1."
   ]
  },
  {
   "cell_type": "code",
   "execution_count": 16,
   "metadata": {},
   "outputs": [
    {
     "data": {
      "text/html": [
       "<div>\n",
       "<style scoped>\n",
       "    .dataframe tbody tr th:only-of-type {\n",
       "        vertical-align: middle;\n",
       "    }\n",
       "\n",
       "    .dataframe tbody tr th {\n",
       "        vertical-align: top;\n",
       "    }\n",
       "\n",
       "    .dataframe thead th {\n",
       "        text-align: right;\n",
       "    }\n",
       "</style>\n",
       "<table border=\"1\" class=\"dataframe\">\n",
       "  <thead>\n",
       "    <tr style=\"text-align: right;\">\n",
       "      <th></th>\n",
       "      <th>luminance_mean</th>\n",
       "      <th>luminance_var</th>\n",
       "      <th>pixel_change_mean</th>\n",
       "      <th>pixel_change_var</th>\n",
       "      <th>time</th>\n",
       "      <th>frame</th>\n",
       "    </tr>\n",
       "  </thead>\n",
       "  <tbody>\n",
       "    <tr>\n",
       "      <th>0</th>\n",
       "      <td>0.000000</td>\n",
       "      <td>0.000000</td>\n",
       "      <td>0.000000</td>\n",
       "      <td>0.000000</td>\n",
       "      <td>0.000</td>\n",
       "      <td>0</td>\n",
       "    </tr>\n",
       "    <tr>\n",
       "      <th>1</th>\n",
       "      <td>0.000278</td>\n",
       "      <td>-0.006234</td>\n",
       "      <td>0.011316</td>\n",
       "      <td>-0.007583</td>\n",
       "      <td>1.483</td>\n",
       "      <td>44</td>\n",
       "    </tr>\n",
       "    <tr>\n",
       "      <th>2</th>\n",
       "      <td>0.000276</td>\n",
       "      <td>-0.117490</td>\n",
       "      <td>0.122457</td>\n",
       "      <td>-0.077297</td>\n",
       "      <td>2.966</td>\n",
       "      <td>88</td>\n",
       "    </tr>\n",
       "    <tr>\n",
       "      <th>3</th>\n",
       "      <td>-0.037238</td>\n",
       "      <td>-0.432881</td>\n",
       "      <td>0.249790</td>\n",
       "      <td>-0.137768</td>\n",
       "      <td>4.449</td>\n",
       "      <td>133</td>\n",
       "    </tr>\n",
       "    <tr>\n",
       "      <th>4</th>\n",
       "      <td>-0.103133</td>\n",
       "      <td>-0.817382</td>\n",
       "      <td>0.220980</td>\n",
       "      <td>-0.185270</td>\n",
       "      <td>5.932</td>\n",
       "      <td>177</td>\n",
       "    </tr>\n",
       "    <tr>\n",
       "      <th>...</th>\n",
       "      <td>...</td>\n",
       "      <td>...</td>\n",
       "      <td>...</td>\n",
       "      <td>...</td>\n",
       "      <td>...</td>\n",
       "      <td>...</td>\n",
       "    </tr>\n",
       "    <tr>\n",
       "      <th>453</th>\n",
       "      <td>0.022442</td>\n",
       "      <td>-0.316261</td>\n",
       "      <td>0.085054</td>\n",
       "      <td>0.168055</td>\n",
       "      <td>671.799</td>\n",
       "      <td>20153</td>\n",
       "    </tr>\n",
       "    <tr>\n",
       "      <th>454</th>\n",
       "      <td>-0.045021</td>\n",
       "      <td>-0.290946</td>\n",
       "      <td>0.166591</td>\n",
       "      <td>0.256266</td>\n",
       "      <td>673.282</td>\n",
       "      <td>20198</td>\n",
       "    </tr>\n",
       "    <tr>\n",
       "      <th>455</th>\n",
       "      <td>-0.146079</td>\n",
       "      <td>-0.338427</td>\n",
       "      <td>0.225959</td>\n",
       "      <td>0.307477</td>\n",
       "      <td>674.765</td>\n",
       "      <td>20242</td>\n",
       "    </tr>\n",
       "    <tr>\n",
       "      <th>456</th>\n",
       "      <td>-0.210616</td>\n",
       "      <td>-0.479267</td>\n",
       "      <td>0.213587</td>\n",
       "      <td>0.270605</td>\n",
       "      <td>676.248</td>\n",
       "      <td>20287</td>\n",
       "    </tr>\n",
       "    <tr>\n",
       "      <th>457</th>\n",
       "      <td>-0.205809</td>\n",
       "      <td>-0.698424</td>\n",
       "      <td>0.101159</td>\n",
       "      <td>0.114183</td>\n",
       "      <td>677.731</td>\n",
       "      <td>20331</td>\n",
       "    </tr>\n",
       "  </tbody>\n",
       "</table>\n",
       "<p>458 rows × 6 columns</p>\n",
       "</div>"
      ],
      "text/plain": [
       "     luminance_mean  luminance_var  pixel_change_mean  pixel_change_var  \\\n",
       "0          0.000000       0.000000           0.000000          0.000000   \n",
       "1          0.000278      -0.006234           0.011316         -0.007583   \n",
       "2          0.000276      -0.117490           0.122457         -0.077297   \n",
       "3         -0.037238      -0.432881           0.249790         -0.137768   \n",
       "4         -0.103133      -0.817382           0.220980         -0.185270   \n",
       "..              ...            ...                ...               ...   \n",
       "453        0.022442      -0.316261           0.085054          0.168055   \n",
       "454       -0.045021      -0.290946           0.166591          0.256266   \n",
       "455       -0.146079      -0.338427           0.225959          0.307477   \n",
       "456       -0.210616      -0.479267           0.213587          0.270605   \n",
       "457       -0.205809      -0.698424           0.101159          0.114183   \n",
       "\n",
       "        time  frame  \n",
       "0      0.000      0  \n",
       "1      1.483     44  \n",
       "2      2.966     88  \n",
       "3      4.449    133  \n",
       "4      5.932    177  \n",
       "..       ...    ...  \n",
       "453  671.799  20153  \n",
       "454  673.282  20198  \n",
       "455  674.765  20242  \n",
       "456  676.248  20287  \n",
       "457  677.731  20331  \n",
       "\n",
       "[458 rows x 6 columns]"
      ]
     },
     "execution_count": 16,
     "metadata": {},
     "output_type": "execute_result"
    }
   ],
   "source": [
    "feature_dir = r\"C:\\Users\\nguye\\Box\\DCL_ARCHIVE\\Documents\\Events\\exp152_fMRIneuralmechanisms\\voxelwiseAnalyses\\knitr_tan\\median_correlation_with_shifts\\out_convo_visual\"\n",
    "\n",
    "runs = ['1.2.3', '2.4.1', '3.1.3', '6.3.9']\n",
    "features = ['luminance_mean', 'luminance_var', 'pixel_change_mean', 'pixel_change_var']\n",
    "for r in runs:\n",
    "    df = pd.DataFrame()\n",
    "    for f in features:\n",
    "        csv_file = glob.glob(os.path.join(feature_dir, f'*{r}_{f}*.csv'))[0]\n",
    "        tmp = pd.read_csv(csv_file)\n",
    "        df[f'{f}'] = tmp.columns.astype(float)\n",
    "    df['time'] = np.arange(0, 1000, 1.483)[:len(df)]\n",
    "    df['frame'] = (df['time'] * 30).astype(int)\n",
    "    df.to_csv(f'./{r}_{f}_convo_overlay1.csv', index=False)\n",
    "df"
   ]
  },
  {
   "cell_type": "code",
   "execution_count": null,
   "metadata": {},
   "outputs": [],
   "source": []
  }
 ],
 "metadata": {
  "kernelspec": {
   "display_name": "Python 3.7.11 ('viz')",
   "language": "python",
   "name": "python3"
  },
  "language_info": {
   "codemirror_mode": {
    "name": "ipython",
    "version": 3
   },
   "file_extension": ".py",
   "mimetype": "text/x-python",
   "name": "python",
   "nbconvert_exporter": "python",
   "pygments_lexer": "ipython3",
   "version": "3.7.11"
  },
  "orig_nbformat": 4,
  "vscode": {
   "interpreter": {
    "hash": "71cb33d187da663a05a2b0cefa2c481da9e8252c99266edb77f0a2c953e454df"
   }
  }
 },
 "nbformat": 4,
 "nbformat_minor": 2
}

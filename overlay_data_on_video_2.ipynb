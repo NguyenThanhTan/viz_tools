{
 "cells": [
  {
   "cell_type": "code",
   "execution_count": 2,
   "metadata": {},
   "outputs": [
    {
     "data": {
      "application/javascript": "\n(function(root) {\n  function now() {\n    return new Date();\n  }\n\n  var force = true;\n\n  if (typeof root._bokeh_onload_callbacks === \"undefined\" || force === true) {\n    root._bokeh_onload_callbacks = [];\n    root._bokeh_is_loading = undefined;\n  }\n\n  if (typeof (root._bokeh_timeout) === \"undefined\" || force === true) {\n    root._bokeh_timeout = Date.now() + 5000;\n    root._bokeh_failed_load = false;\n  }\n\n  function run_callbacks() {\n    try {\n      root._bokeh_onload_callbacks.forEach(function(callback) {\n        if (callback != null)\n          callback();\n      });\n    } finally {\n      delete root._bokeh_onload_callbacks\n    }\n    console.debug(\"Bokeh: all callbacks have finished\");\n  }\n\n  function load_libs(css_urls, js_urls, js_modules, callback) {\n    if (css_urls == null) css_urls = [];\n    if (js_urls == null) js_urls = [];\n    if (js_modules == null) js_modules = [];\n\n    root._bokeh_onload_callbacks.push(callback);\n    if (root._bokeh_is_loading > 0) {\n      console.debug(\"Bokeh: BokehJS is being loaded, scheduling callback at\", now());\n      return null;\n    }\n    if (js_urls.length === 0 && js_modules.length === 0) {\n      run_callbacks();\n      return null;\n    }\n    console.debug(\"Bokeh: BokehJS not loaded, scheduling load and callback at\", now());\n    root._bokeh_is_loading = css_urls.length + js_urls.length + js_modules.length;\n\n    function on_load() {\n      root._bokeh_is_loading--;\n      if (root._bokeh_is_loading === 0) {\n        console.debug(\"Bokeh: all BokehJS libraries/stylesheets loaded\");\n        run_callbacks()\n      }\n    }\n\n    function on_error() {\n      console.error(\"failed to load \" + url);\n    }\n\n    for (var i = 0; i < css_urls.length; i++) {\n      var url = css_urls[i];\n      const element = document.createElement(\"link\");\n      element.onload = on_load;\n      element.onerror = on_error;\n      element.rel = \"stylesheet\";\n      element.type = \"text/css\";\n      element.href = url;\n      console.debug(\"Bokeh: injecting link tag for BokehJS stylesheet: \", url);\n      document.body.appendChild(element);\n    }\n\n    var skip = [];\n    if (window.requirejs) {\n      window.requirejs.config({'paths': {'tabulator': 'https://unpkg.com/tabulator-tables@4.9.3/dist/js/tabulator'}});\n      require([], function() {\n      })\n    }\n    if (((window['tabulator'] !== undefined) && (!(window['tabulator'] instanceof HTMLElement))) || window.requirejs) {\n      var urls = ['https://unpkg.com/tabulator-tables@4.9.3/dist/js/tabulator.js', 'https://unpkg.com/moment@2.27.0/moment.js'];\n      for (var i = 0; i < urls.length; i++) {\n        skip.push(urls[i])\n      }\n    }\n    for (var i = 0; i < js_urls.length; i++) {\n      var url = js_urls[i];\n      if (skip.indexOf(url) >= 0) { on_load(); continue; }\n      var element = document.createElement('script');\n      element.onload = on_load;\n      element.onerror = on_error;\n      element.async = false;\n      element.src = url;\n      console.debug(\"Bokeh: injecting script tag for BokehJS library: \", url);\n      document.head.appendChild(element);\n    }\n    for (var i = 0; i < js_modules.length; i++) {\n      var url = js_modules[i];\n      if (skip.indexOf(url) >= 0) { on_load(); continue; }\n      var element = document.createElement('script');\n      element.onload = on_load;\n      element.onerror = on_error;\n      element.async = false;\n      element.src = url;\n      element.type = \"module\";\n      console.debug(\"Bokeh: injecting script tag for BokehJS library: \", url);\n      document.head.appendChild(element);\n    }\n    if (!js_urls.length && !js_modules.length) {\n      on_load()\n    }\n  };\n\n  function inject_raw_css(css) {\n    const element = document.createElement(\"style\");\n    element.appendChild(document.createTextNode(css));\n    document.body.appendChild(element);\n  }\n\n  var js_urls = [\"https://unpkg.com/tabulator-tables@4.9.3/dist/js/tabulator.js\", \"https://unpkg.com/moment@2.27.0/moment.js\", \"https://cdn.bokeh.org/bokeh/release/bokeh-2.3.3.min.js\", \"https://cdn.bokeh.org/bokeh/release/bokeh-widgets-2.3.3.min.js\", \"https://cdn.bokeh.org/bokeh/release/bokeh-tables-2.3.3.min.js\", \"https://unpkg.com/@holoviz/panel@0.11.3/dist/panel.min.js\"];\n  var js_modules = [];\n  var css_urls = [\"https://unpkg.com/tabulator-tables@4.9.3/dist/css/tabulator_simple.min.css\", \"https://unpkg.com/@holoviz/panel@0.11.3/dist/css/alerts.css\", \"https://unpkg.com/@holoviz/panel@0.11.3/dist/css/card.css\", \"https://unpkg.com/@holoviz/panel@0.11.3/dist/css/dataframe.css\", \"https://unpkg.com/@holoviz/panel@0.11.3/dist/css/json.css\", \"https://unpkg.com/@holoviz/panel@0.11.3/dist/css/loading.css\", \"https://unpkg.com/@holoviz/panel@0.11.3/dist/css/markdown.css\", \"https://unpkg.com/@holoviz/panel@0.11.3/dist/css/widgets.css\"];\n  var inline_js = [\n    function(Bokeh) {\n      inject_raw_css(\"\\n    .bk.pn-loading.arcs:before {\\n      background-image: url(\\\"data:image/svg+xml;base64,PHN2ZyB4bWxucz0iaHR0cDovL3d3dy53My5vcmcvMjAwMC9zdmciIHhtbG5zOnhsaW5rPSJodHRwOi8vd3d3LnczLm9yZy8xOTk5L3hsaW5rIiBzdHlsZT0ibWFyZ2luOiBhdXRvOyBiYWNrZ3JvdW5kOiBub25lOyBkaXNwbGF5OiBibG9jazsgc2hhcGUtcmVuZGVyaW5nOiBhdXRvOyIgdmlld0JveD0iMCAwIDEwMCAxMDAiIHByZXNlcnZlQXNwZWN0UmF0aW89InhNaWRZTWlkIj4gIDxjaXJjbGUgY3g9IjUwIiBjeT0iNTAiIHI9IjMyIiBzdHJva2Utd2lkdGg9IjgiIHN0cm9rZT0iI2MzYzNjMyIgc3Ryb2tlLWRhc2hhcnJheT0iNTAuMjY1NDgyNDU3NDM2NjkgNTAuMjY1NDgyNDU3NDM2NjkiIGZpbGw9Im5vbmUiIHN0cm9rZS1saW5lY2FwPSJyb3VuZCI+ICAgIDxhbmltYXRlVHJhbnNmb3JtIGF0dHJpYnV0ZU5hbWU9InRyYW5zZm9ybSIgdHlwZT0icm90YXRlIiByZXBlYXRDb3VudD0iaW5kZWZpbml0ZSIgZHVyPSIxcyIga2V5VGltZXM9IjA7MSIgdmFsdWVzPSIwIDUwIDUwOzM2MCA1MCA1MCI+PC9hbmltYXRlVHJhbnNmb3JtPiAgPC9jaXJjbGU+PC9zdmc+\\\")\\n    }\\n    \");\n    },\n    function(Bokeh) {\n      Bokeh.set_log_level(\"info\");\n    },\n    function(Bokeh) {} // ensure no trailing comma for IE\n  ];\n\n  function run_inline_js() {\n    if ((root.Bokeh !== undefined) || (force === true)) {\n      for (var i = 0; i < inline_js.length; i++) {\n        inline_js[i].call(root, root.Bokeh);\n      }} else if (Date.now() < root._bokeh_timeout) {\n      setTimeout(run_inline_js, 100);\n    } else if (!root._bokeh_failed_load) {\n      console.log(\"Bokeh: BokehJS failed to load within specified timeout.\");\n      root._bokeh_failed_load = true;\n    }\n  }\n\n  if (root._bokeh_is_loading === 0) {\n    console.debug(\"Bokeh: BokehJS loaded, going straight to plotting\");\n    run_inline_js();\n  } else {\n    load_libs(css_urls, js_urls, js_modules, function() {\n      console.debug(\"Bokeh: BokehJS plotting callback run at\", now());\n      run_inline_js();\n    });\n  }\n}(window));",
      "application/vnd.holoviews_load.v0+json": ""
     },
     "metadata": {},
     "output_type": "display_data"
    },
    {
     "data": {
      "application/javascript": "\nif ((window.PyViz === undefined) || (window.PyViz instanceof HTMLElement)) {\n  window.PyViz = {comms: {}, comm_status:{}, kernels:{}, receivers: {}, plot_index: []}\n}\n\n\n    function JupyterCommManager() {\n    }\n\n    JupyterCommManager.prototype.register_target = function(plot_id, comm_id, msg_handler) {\n      if (window.comm_manager || ((window.Jupyter !== undefined) && (Jupyter.notebook.kernel != null))) {\n        var comm_manager = window.comm_manager || Jupyter.notebook.kernel.comm_manager;\n        comm_manager.register_target(comm_id, function(comm) {\n          comm.on_msg(msg_handler);\n        });\n      } else if ((plot_id in window.PyViz.kernels) && (window.PyViz.kernels[plot_id])) {\n        window.PyViz.kernels[plot_id].registerCommTarget(comm_id, function(comm) {\n          comm.onMsg = msg_handler;\n        });\n      } else if (typeof google != 'undefined' && google.colab.kernel != null) {\n        google.colab.kernel.comms.registerTarget(comm_id, (comm) => {\n          var messages = comm.messages[Symbol.asyncIterator]();\n          function processIteratorResult(result) {\n            var message = result.value;\n            console.log(message)\n            var content = {data: message.data, comm_id};\n            var buffers = []\n            for (var buffer of message.buffers || []) {\n              buffers.push(new DataView(buffer))\n            }\n            var metadata = message.metadata || {};\n            var msg = {content, buffers, metadata}\n            msg_handler(msg);\n            return messages.next().then(processIteratorResult);\n          }\n          return messages.next().then(processIteratorResult);\n        })\n      }\n    }\n\n    JupyterCommManager.prototype.get_client_comm = function(plot_id, comm_id, msg_handler) {\n      if (comm_id in window.PyViz.comms) {\n        return window.PyViz.comms[comm_id];\n      } else if (window.comm_manager || ((window.Jupyter !== undefined) && (Jupyter.notebook.kernel != null))) {\n        var comm_manager = window.comm_manager || Jupyter.notebook.kernel.comm_manager;\n        var comm = comm_manager.new_comm(comm_id, {}, {}, {}, comm_id);\n        if (msg_handler) {\n          comm.on_msg(msg_handler);\n        }\n      } else if ((plot_id in window.PyViz.kernels) && (window.PyViz.kernels[plot_id])) {\n        var comm = window.PyViz.kernels[plot_id].connectToComm(comm_id);\n        comm.open();\n        if (msg_handler) {\n          comm.onMsg = msg_handler;\n        }\n      } else if (typeof google != 'undefined' && google.colab.kernel != null) {\n        var comm_promise = google.colab.kernel.comms.open(comm_id)\n        comm_promise.then((comm) => {\n          window.PyViz.comms[comm_id] = comm;\n          if (msg_handler) {\n            var messages = comm.messages[Symbol.asyncIterator]();\n            function processIteratorResult(result) {\n              var message = result.value;\n              var content = {data: message.data};\n              var metadata = message.metadata || {comm_id};\n              var msg = {content, metadata}\n              msg_handler(msg);\n              return messages.next().then(processIteratorResult);\n            }\n            return messages.next().then(processIteratorResult);\n          }\n        }) \n        var sendClosure = (data, metadata, buffers, disposeOnDone) => {\n          return comm_promise.then((comm) => {\n            comm.send(data, metadata, buffers, disposeOnDone);\n          });\n        };\n        var comm = {\n          send: sendClosure\n        };\n      }\n      window.PyViz.comms[comm_id] = comm;\n      return comm;\n    }\n    window.PyViz.comm_manager = new JupyterCommManager();\n    \n\n\nvar JS_MIME_TYPE = 'application/javascript';\nvar HTML_MIME_TYPE = 'text/html';\nvar EXEC_MIME_TYPE = 'application/vnd.holoviews_exec.v0+json';\nvar CLASS_NAME = 'output';\n\n/**\n * Render data to the DOM node\n */\nfunction render(props, node) {\n  var div = document.createElement(\"div\");\n  var script = document.createElement(\"script\");\n  node.appendChild(div);\n  node.appendChild(script);\n}\n\n/**\n * Handle when a new output is added\n */\nfunction handle_add_output(event, handle) {\n  var output_area = handle.output_area;\n  var output = handle.output;\n  if ((output.data == undefined) || (!output.data.hasOwnProperty(EXEC_MIME_TYPE))) {\n    return\n  }\n  var id = output.metadata[EXEC_MIME_TYPE][\"id\"];\n  var toinsert = output_area.element.find(\".\" + CLASS_NAME.split(' ')[0]);\n  if (id !== undefined) {\n    var nchildren = toinsert.length;\n    var html_node = toinsert[nchildren-1].children[0];\n    html_node.innerHTML = output.data[HTML_MIME_TYPE];\n    var scripts = [];\n    var nodelist = html_node.querySelectorAll(\"script\");\n    for (var i in nodelist) {\n      if (nodelist.hasOwnProperty(i)) {\n        scripts.push(nodelist[i])\n      }\n    }\n\n    scripts.forEach( function (oldScript) {\n      var newScript = document.createElement(\"script\");\n      var attrs = [];\n      var nodemap = oldScript.attributes;\n      for (var j in nodemap) {\n        if (nodemap.hasOwnProperty(j)) {\n          attrs.push(nodemap[j])\n        }\n      }\n      attrs.forEach(function(attr) { newScript.setAttribute(attr.name, attr.value) });\n      newScript.appendChild(document.createTextNode(oldScript.innerHTML));\n      oldScript.parentNode.replaceChild(newScript, oldScript);\n    });\n    if (JS_MIME_TYPE in output.data) {\n      toinsert[nchildren-1].children[1].textContent = output.data[JS_MIME_TYPE];\n    }\n    output_area._hv_plot_id = id;\n    if ((window.Bokeh !== undefined) && (id in Bokeh.index)) {\n      window.PyViz.plot_index[id] = Bokeh.index[id];\n    } else {\n      window.PyViz.plot_index[id] = null;\n    }\n  } else if (output.metadata[EXEC_MIME_TYPE][\"server_id\"] !== undefined) {\n    var bk_div = document.createElement(\"div\");\n    bk_div.innerHTML = output.data[HTML_MIME_TYPE];\n    var script_attrs = bk_div.children[0].attributes;\n    for (var i = 0; i < script_attrs.length; i++) {\n      toinsert[toinsert.length - 1].childNodes[1].setAttribute(script_attrs[i].name, script_attrs[i].value);\n    }\n    // store reference to server id on output_area\n    output_area._bokeh_server_id = output.metadata[EXEC_MIME_TYPE][\"server_id\"];\n  }\n}\n\n/**\n * Handle when an output is cleared or removed\n */\nfunction handle_clear_output(event, handle) {\n  var id = handle.cell.output_area._hv_plot_id;\n  var server_id = handle.cell.output_area._bokeh_server_id;\n  if (((id === undefined) || !(id in PyViz.plot_index)) && (server_id !== undefined)) { return; }\n  var comm = window.PyViz.comm_manager.get_client_comm(\"hv-extension-comm\", \"hv-extension-comm\", function () {});\n  if (server_id !== null) {\n    comm.send({event_type: 'server_delete', 'id': server_id});\n    return;\n  } else if (comm !== null) {\n    comm.send({event_type: 'delete', 'id': id});\n  }\n  delete PyViz.plot_index[id];\n  if ((window.Bokeh !== undefined) & (id in window.Bokeh.index)) {\n    var doc = window.Bokeh.index[id].model.document\n    doc.clear();\n    const i = window.Bokeh.documents.indexOf(doc);\n    if (i > -1) {\n      window.Bokeh.documents.splice(i, 1);\n    }\n  }\n}\n\n/**\n * Handle kernel restart event\n */\nfunction handle_kernel_cleanup(event, handle) {\n  delete PyViz.comms[\"hv-extension-comm\"];\n  window.PyViz.plot_index = {}\n}\n\n/**\n * Handle update_display_data messages\n */\nfunction handle_update_output(event, handle) {\n  handle_clear_output(event, {cell: {output_area: handle.output_area}})\n  handle_add_output(event, handle)\n}\n\nfunction register_renderer(events, OutputArea) {\n  function append_mime(data, metadata, element) {\n    // create a DOM node to render to\n    var toinsert = this.create_output_subarea(\n    metadata,\n    CLASS_NAME,\n    EXEC_MIME_TYPE\n    );\n    this.keyboard_manager.register_events(toinsert);\n    // Render to node\n    var props = {data: data, metadata: metadata[EXEC_MIME_TYPE]};\n    render(props, toinsert[0]);\n    element.append(toinsert);\n    return toinsert\n  }\n\n  events.on('output_added.OutputArea', handle_add_output);\n  events.on('output_updated.OutputArea', handle_update_output);\n  events.on('clear_output.CodeCell', handle_clear_output);\n  events.on('delete.Cell', handle_clear_output);\n  events.on('kernel_ready.Kernel', handle_kernel_cleanup);\n\n  OutputArea.prototype.register_mime_type(EXEC_MIME_TYPE, append_mime, {\n    safe: true,\n    index: 0\n  });\n}\n\nif (window.Jupyter !== undefined) {\n  try {\n    var events = require('base/js/events');\n    var OutputArea = require('notebook/js/outputarea').OutputArea;\n    if (OutputArea.prototype.mime_types().indexOf(EXEC_MIME_TYPE) == -1) {\n      register_renderer(events, OutputArea);\n    }\n  } catch(err) {\n  }\n}\n",
      "application/vnd.holoviews_load.v0+json": ""
     },
     "metadata": {},
     "output_type": "display_data"
    }
   ],
   "source": [
    "import pandas as pd\n",
    "import numpy as np\n",
    "# For panel visualizations:\n",
    "import panel as pn\n",
    "import param\n",
    "# For displaying images:\n",
    "import cv2\n",
    "import glob\n",
    "import os\n",
    "import sys\n",
    "import matplotlib\n",
    "# matplotlib.use('agg')\n",
    "import matplotlib.pyplot as plt\n",
    "import seaborn as sns\n",
    "from moviepy.editor import *\n",
    "import wavio\n",
    "\n",
    "pn.extension()\n"
   ]
  },
  {
   "cell_type": "code",
   "execution_count": null,
   "metadata": {},
   "outputs": [],
   "source": [
    "if not os.path.exists('./tmp'):\n",
    "    os.makedirs('./tmp')"
   ]
  },
  {
   "cell_type": "code",
   "execution_count": 3,
   "metadata": {
    "pycharm": {
     "name": "#%%\n"
    }
   },
   "outputs": [],
   "source": [
    "labels = []\n",
    "\n",
    "multi_label_select = pn.widgets.MultiSelect(name='Select labels to plot', value=labels, options=labels, height=100, width=500)\n",
    "# input_text = pn.widgets.TextInput(name='Input video', placeholder='Input video path (abs or rel)', value='RedBalloon_clip1_excerpt.mov')\n",
    "# input_text = pn.widgets.FileInput()\n",
    "input_file = pn.widgets.FileSelector('.', name='Input video', value=['RedBalloon_clip1_excerpt.mov'])\n",
    "output_text = pn.widgets.TextInput(name='Output video (.avi)', placeholder='Output video path (*.avi)', value='redbaloon.avi')\n",
    "# annotation_text = pn.widgets.TextInput(name='Annotation file (.txt)', placeholder='Input annotation path *.txt (abs or rel)', value='')\n",
    "annotation_text = pn.widgets.FileInput(accept='.txt')\n",
    "\n",
    "sampling_rate = pn.widgets.IntSlider(name='Sampling rate (fps). Small fps helps rendering faster', \n",
    "start=1, end=30, value=3)\n",
    "\n",
    "progress_bar = pn.indicators.Progress(name='Progress', width=200, value=0)\n"
   ]
  },
  {
   "cell_type": "code",
   "execution_count": 4,
   "metadata": {},
   "outputs": [],
   "source": [
    "@pn.depends(input_file.param.value)\n",
    "def update_sampling_rate(input_file):\n",
    "    cv2_reader = cv2.VideoCapture(input_file[0])\n",
    "    fps = cv2_reader.get(cv2.CAP_PROP_FPS)\n",
    "    sampling_rate.value = int(np.ceil(fps / 2))"
   ]
  },
  {
   "cell_type": "code",
   "execution_count": 5,
   "metadata": {
    "collapsed": false,
    "pycharm": {
     "name": "#%%\n"
    }
   },
   "outputs": [],
   "source": [
    "# number of axes of a matplotlib figure is assigned to draw the frame (image)\n",
    "image_row = 4\n",
    "# aspect ratio of matplotlib figure\n",
    "width = 1920\n",
    "height = 160\n",
    "w_h_ratio = round(width / height)\n",
    "\n",
    "row_count = pn.widgets.Select(name='Grid Row', value=image_row, options=list(range(image_row, 20)))\n",
    "column_count = pn.widgets.Select(name='Grid Column', value=1, options=list(range(1, 20)))\n",
    "\n",
    "@pn.depends(column_count, multi_label_select)\n",
    "def update_row(column_count, multi_label_select):\n",
    "    count = len(multi_label_select) + image_row\n",
    "    row = row_count.value\n",
    "    while row * column_count < count:\n",
    "        row += 1\n",
    "    while (row - 1) * column_count >= count and row - 1 >= image_row:\n",
    "        row -= 1\n",
    "\n",
    "    row_count.value = row"
   ]
  },
  {
   "cell_type": "code",
   "execution_count": 6,
   "metadata": {
    "pycharm": {
     "name": "#%%\n"
    }
   },
   "outputs": [],
   "source": [
    "# fig, ax = plt.subplots()\n",
    "# pn.pane.PNG('tmp.png')"
   ]
  },
  {
   "cell_type": "code",
   "execution_count": 7,
   "metadata": {
    "collapsed": false,
    "pycharm": {
     "name": "#%%\n"
    }
   },
   "outputs": [],
   "source": [
    "# if not os.path.exists('./tmp'):\n",
    "#     os.makedirs('./tmp')\n",
    "\n",
    "# # preview = pn.widgets.MultiSelect(options=['preview.png'], value=['preview.png'])\n",
    "# preview_button = pn.widgets.Button(name='Render a Preview', button_type='primary')\n",
    "\n",
    "# @pn.depends(preview_button)\n",
    "# def preview_img(preview):\n",
    "#     print('Update Preview')\n",
    "#     # print(type(preview))\n",
    "#     # print(preview)\n",
    "#     return pn.pane.PNG(f'{preview[0]}', width=900 * column_count.value, height=300 * row_count.value)"
   ]
  },
  {
   "cell_type": "code",
   "execution_count": 8,
   "metadata": {
    "pycharm": {
     "name": "#%%\n"
    }
   },
   "outputs": [],
   "source": [
    "class ActionExample(param.Parameterized):\n",
    "\n",
    "    \n",
    "    import_annotation = param.Action(lambda x: x.param.trigger('import_annotation'), label='Import Annotation')\n",
    "\n",
    "    @param.depends('import_annotation')\n",
    "    def import_anno(self):\n",
    "        try:\n",
    "            print(f\"Loading annotation file={annotation_text.filename}\")\n",
    "            with open(f'{annotation_text.filename}', 'rt') as f:\n",
    "                annotation = [x.strip() for x in f.readlines()]\n",
    "                annotation = [x.split(' ') for x in annotation]\n",
    "            labels = [x[0] for x in annotation]\n",
    "            multi_label_select.options = labels\n",
    "            annotation = [pd.Series(data=x[1:], name=x[0], dtype=float) for x in annotation]\n",
    "            self.annotation = annotation\n",
    "\n",
    "#             fig = plt.figure()\n",
    "#             plt.axis([0, 10, 0, 10])\n",
    "            t = f'Successfully loaded {annotation_text.filename}'\n",
    "            print(f\"Loaded annotation file={annotation_text.filename}\")\n",
    "#             plt.text(5, 10, t, fontsize=18, style='oblique', ha='center',\n",
    "#                      va='top', wrap=True)\n",
    "            return pn.Row(f'## {t}')\n",
    "        except Exception as e:\n",
    "#             fig = plt.figure()\n",
    "#             plt.axis([0, 10, 0, 10])\n",
    "            t = str(e)\n",
    "            # print(f\"{t}\")\n",
    "#             plt.text(5, 10, t, fontsize=18, style='oblique', ha='center',\n",
    "#                      va='top', wrap=True)\n",
    "            return pn.Row(f'## {e}')\n",
    "\n",
    "    def process_frame(self, frame_id, frame):\n",
    "        # progress_bar.value = int(frame_id / cv2_reader.get(cv2.CAP_PROP_FRAME_COUNT))\n",
    "        print(f'Processing frame {frame_id}...')\n",
    "\n",
    "        row = row_count.value\n",
    "        col = column_count.value\n",
    "        while row * col < len(multi_label_select.value) + image_row:\n",
    "            row += 1\n",
    "\n",
    "        fig, axes = plt.subplots(nrows=row, ncols=col, figsize=(w_h_ratio * col, 1 * row), squeeze=False,\n",
    "        sharex=True)\n",
    "\n",
    "        # iterate through selected column and draw, annotation dependent processing:\n",
    "        count = image_row\n",
    "        for series in self.annotation:\n",
    "            for label in list(multi_label_select.value):\n",
    "                if series.name == label:\n",
    "                    for t in series:\n",
    "                        axes[count % row, count // row].axvline(t, linewidth=2, alpha=0.5, c='b')\n",
    "                    axes[count % row, count // row].axvline(frame_id / self.fps, linewidth=2, alpha=0.5, c='r')\n",
    "                    axes[count % row, count // row].set_title(label, x=-0.08, y=0.4, size=18)\n",
    "                    axes[count % row, count // row].set_axis_off()\n",
    "                    axes[count % row, count // row].set_xlim(left=0, right=self.num_frames / self.fps)\n",
    "                    count += 1\n",
    "                    \n",
    "        for i in range(count, row * col):\n",
    "            # axes[i % row, i // row].set_visible(False)\n",
    "            axes[i % row, i // row].axis('off')\n",
    "        # doesn't get removed when saving with tight bbox, but set_visible=False gets removed\n",
    "        for i in range(image_row):\n",
    "            axes[i, 0].axis('off')\n",
    "        # axes[0, 0].set_visible(False)\n",
    "        # axes[0, 0].spines[\"right\"].set_visible(False)\n",
    "        # axes[0, 0].spines[\"left\"].set_visible(False)\n",
    "        # axes[0, 0].spines[\"bottom\"].set_visible(False)\n",
    "        # axes[0, 0].spines[\"top\"].set_visible(False)\n",
    "\n",
    "        tmp_path = f'./tmp/tmp_{np.random.randint(100)}.png'\n",
    "        # plt.axis('off')\n",
    "        plt.savefig(tmp_path, bbox_inches='tight', pad_inches = 0)\n",
    "        # plt.savefig(tmp_path)\n",
    "        img = cv2.imread(tmp_path)\n",
    "        img = cv2.resize(img, dsize=(width * col, height * row))\n",
    "        # print(img.shape, frame.shape)\n",
    "        scale = min(width / frame.shape[1], height * image_row / frame.shape[0])\n",
    "        # print(scale)\n",
    "        frame = cv2.resize(frame, dsize=(int(scale * frame.shape[1]), int(scale * frame.shape[0])))\n",
    "        # print(frame.shape)\n",
    "        w_pad = int((width - frame.shape[1]) // 2)\n",
    "        h_pad = int((height * image_row - frame.shape[0]) // 2)\n",
    "        # print(w_pad, h_pad)\n",
    "        img[h_pad: h_pad + frame.shape[0], w_pad: w_pad + frame.shape[1], :] = frame\n",
    "\n",
    "        return img\n",
    "\n",
    "    def process_audio(self, last_frame_id, audio_sampling_rate):\n",
    "        audio_frames = np.zeros(shape=(int(self.num_frames / self.fps * audio_sampling_rate)))\n",
    "        frequencies = np.arange(600, 6000, 400)\n",
    "        count = image_row\n",
    "        frequencies = np.arange(600, 6000, 400)\n",
    "        for series in self.annotation:\n",
    "            for label in list(multi_label_select.value):\n",
    "                if series.name == label:\n",
    "                    for t in series:\n",
    "                        # print(f'Adding {series.name} at frame {frame_id} for annotated {t * fps}')\n",
    "                        f = frequencies[count]\n",
    "                        sample = 500\n",
    "                        x = np.arange(sample)\n",
    "                        y = np.sin(2 * np.pi * f * x / audio_sampling_rate)\n",
    "                        start = max(int(t * audio_sampling_rate - len(y) / 2), 0)\n",
    "                        audio_frames[start: start + len(y)] = y\n",
    "                        # audio_frames[start: start + len(y)] = audio_frames[start: start + len(y)] + y\n",
    "                    count += 1\n",
    "        \n",
    "        audio_frames = audio_frames[:int(last_frame_id / self.fps * audio_sampling_rate)]\n",
    "        return audio_frames\n",
    "\n",
    "    draw_video = param.Action(lambda x: x.param.trigger('draw_video'), label='Draw')\n",
    "\n",
    "    @param.depends('draw_video')\n",
    "    def matrix_visualize(self):\n",
    "        # define reader and writer\n",
    "        try:\n",
    "            cv2_writer = None\n",
    "            # cv2_reader = cv2.VideoCapture(input_text.value)\n",
    "            cv2_reader = cv2.VideoCapture(input_file.value[0])\n",
    "            self.fps = cv2_reader.get(cv2.CAP_PROP_FPS)\n",
    "            self.num_frames = int(cv2_reader.get(cv2.CAP_PROP_FRAME_COUNT))\n",
    "\n",
    "            length_row = len(self.annotation)\n",
    "\n",
    "            frame_id = -1\n",
    "            while cv2_reader.isOpened():\n",
    "                ret, frame = cv2_reader.read()\n",
    "                frame_id += 1\n",
    "                # if frame_id > 200:\n",
    "                #     break\n",
    "                if not ret:\n",
    "                    break\n",
    "                if frame_id % int(round(self.fps / sampling_rate.value)) != 0:\n",
    "                    continue\n",
    "                    \n",
    "                img = self.process_frame(frame_id, frame=frame)\n",
    "                if cv2_writer is None:\n",
    "                    fourcc = cv2.VideoWriter_fourcc(*'XVID')\n",
    "                    cv2_writer = cv2.VideoWriter(output_text.value, fourcc=fourcc, fps=sampling_rate.value,\n",
    "                                                 frameSize=(img.shape[1], img.shape[0]),\n",
    "                                                 isColor=True)\n",
    "                cv2_writer.write(img)\n",
    "                plt.close('all')\n",
    "                # plt.clf()\n",
    "            cv2_writer.release()\n",
    "            cv2_reader.release()\n",
    "            print(f'Done rendering video at {output_text.value}')\n",
    "            \n",
    "            audio_sampling_rate = 44100\n",
    "            audio_frames = self.process_audio(last_frame_id=frame_id, audio_sampling_rate=audio_sampling_rate)\n",
    "            audio_path = os.path.splitext(output_text.value)[0] + '.wav'\n",
    "            wavio.write(f\"{audio_path}\", audio_frames, audio_sampling_rate, sampwidth=3)\n",
    "            print(f'Done rendering audio at {audio_path}')\n",
    "\n",
    "            clip = VideoFileClip(f\"{output_text.value}\")\n",
    "            audioclip = AudioFileClip(f\"{audio_path}\")\n",
    "            videoclip = clip.set_audio(audioclip)\n",
    "            videoclip.write_videofile(f\"{os.path.splitext(output_text.value)[0]}.mp4\")\n",
    "            print(f'Done rendering audio video at {os.path.splitext(output_text.value)[0]}.mp4')\n",
    "\n",
    "            t = f'Done rendering audio video at {os.path.splitext(output_text.value)[0]}.mp4'\n",
    "            return pn.Row(f'## Status of rendering full video \\n{t}')\n",
    "        except Exception as e:\n",
    "            t = str(e)\n",
    "            return pn.Row(f'## Status of rendering full video \\n{e}')\n",
    "\n",
    "\n",
    "    preview_button = param.Action(lambda x: x.param.trigger('preview_button'), label='Render Preview')\n",
    "    @param.depends('preview_button')\n",
    "    def render_preview(self):\n",
    "        # define reader and writer\n",
    "        try:\n",
    "            cv2_reader = cv2.VideoCapture(input_file.value[0])\n",
    "            self.fps = cv2_reader.get(cv2.CAP_PROP_FPS)\n",
    "            self.num_frames = int(cv2_reader.get(cv2.CAP_PROP_FRAME_COUNT))\n",
    "            frame_id = -1\n",
    "\n",
    "            length_row = len(self.annotation)\n",
    "\n",
    "            while cv2_reader.isOpened():\n",
    "                ret, frame = cv2_reader.read()\n",
    "                frame_id += 1\n",
    "\n",
    "                img = self.process_frame(frame_id=frame_id, frame=frame)\n",
    "                \n",
    "                img_path = './tmp/' + f\"{output_text.value.split('.')[0]}_{np.random.randint(100)}.png\"\n",
    "                cv2.imwrite(img_path, img)\n",
    "                plt.close('all')\n",
    "                break\n",
    "            cv2_reader.release()\n",
    "\n",
    "            t = f\"Done rendering frame {frame_id}\"\n",
    "            return pn.Column(f'## Status of Rendering \\n{t}', pn.pane.PNG(f'{img_path}', width=img.shape[1] // 2, height=img.shape[0] // 2))\n",
    "        except Exception as e:\n",
    "            t = str(e)\n",
    "            return pn.Column(f'## Status of Rendering \\n{e}', pn.pane.PNG(f'preview.png', width=960, height=640))\n",
    "\n",
    "\n",
    "action_video = ActionExample()"
   ]
  },
  {
   "cell_type": "code",
   "execution_count": 78,
   "metadata": {
    "pycharm": {
     "name": "#%%\n"
    },
    "scrolled": true
   },
   "outputs": [
    {
     "name": "stdout",
     "output_type": "stream",
     "text": [
      "Loading annotation file=None\n"
     ]
    },
    {
     "data": {},
     "metadata": {},
     "output_type": "display_data"
    },
    {
     "data": {
      "application/vnd.holoviews_exec.v0+json": "",
      "text/html": [
       "<div id='1167'>\n",
       "\n",
       "\n",
       "\n",
       "\n",
       "\n",
       "  <div class=\"bk-root\" id=\"4ecdb3ea-ed05-4fe7-9e49-44396d2cacdc\" data-root-id=\"1167\"></div>\n",
       "</div>\n",
       "<script type=\"application/javascript\">(function(root) {\n",
       "  function embed_document(root) {\n",
       "    var docs_json = {\"26645fd2-76ea-49ed-9a89-54f5ebd365a0\":{\"defs\":[],\"roots\":{\"references\":[{\"attributes\":{\"margin\":[5,10,5,10],\"max_length\":5000,\"value\":\"c:\\\\Users\\\\nguye\\\\Box\\\\DCL_ARCHIVE\\\\viz_tools\",\"width_policy\":\"max\"},\"id\":\"1189\",\"type\":\"TextInput\"},{\"attributes\":{\"children\":[{\"id\":\"1168\"},{\"id\":\"1171\"},{\"id\":\"1173\"},{\"id\":\"1177\"},{\"id\":\"1183\"},{\"id\":\"1209\"},{\"id\":\"1211\"},{\"id\":\"1217\"},{\"id\":\"1219\"},{\"id\":\"1223\"},{\"id\":\"1225\"}],\"margin\":[0,0,0,0],\"name\":\"Column00776\"},\"id\":\"1167\",\"type\":\"Column\"},{\"attributes\":{\"children\":[{\"id\":\"1186\"},{\"id\":\"1187\"},{\"id\":\"1188\"},{\"id\":\"1189\"},{\"id\":\"1190\"},{\"id\":\"1191\"}],\"margin\":[0,0,0,0],\"name\":\"Row00416\",\"width_policy\":\"max\"},\"id\":\"1185\",\"type\":\"Row\"},{\"attributes\":{\"icon\":null,\"label\":\"Import Annotation\",\"margin\":[5,10,5,10],\"subscribed_events\":[\"button_click\"]},\"id\":\"1172\",\"type\":\"Button\"},{\"attributes\":{\"children\":[{\"id\":\"1175\"}],\"margin\":[0,0,0,0],\"name\":\"Row00719\"},\"id\":\"1174\",\"type\":\"Row\"},{\"attributes\":{\"height\":640,\"margin\":[5,5,5,5],\"name\":\"PNG00745\",\"sizing_mode\":\"fixed\",\"text\":\"&lt;img src=&quot;data:image/png;base64,iVBORw0KGgoAAAANSUhEUgAAAOEAAADhCAMAAAAJbSJIAAAAeFBMVEUAAAAODg7////V1dXNzc3n5+eCgoK3t7f8/PzR0dGIiIh5eXmBgYHq6urZ2dlJSUnGxsZnZ2eSkpJPT0/v7+9UVFQtLS3AwMAYGBiurq5wcHBCQkJZWVmampo9PT1hYWEVFRUoKCixsbGgoKCVlZUfHx80NDQrKyuVI95nAAAEm0lEQVR4nO2YWVvyOhRGyy7YiVaGShkEB6r+/394ko7Z/SjC0ZvX5103hqQJWd3ZSdDbTv42W2/i/W0mNISHhvjQEB8a4kNDfGiIDw3xoSE+NMSHhvjQEB8a4kNDfGiIDw3xoSE+NMSHhvjQEB8a4kNDfGiIDw3xoSE+NMSHhvjQEB8a4kNDfGiIDw3xoSE+NMSHhvjQEB8a4kNDfGiIDw3xoSE+NMSHhvjQEB8a4kNDfGiIDw3xoSE+NMSHhvjQ0Fv604pFUD679WU0bRp28aPqEbQthmjlNKx9333MP3blj4W/7FsOzgDTqKte+UVbLKJdO2YUnX5o+CA9hVMfOPUSuD3SsZaDyKH78CLy5H5w3lLiDiBd9U7ypjQXmTXFhWTX53+foauoDOXs9JhdcY+dp5ymWELnsUDSZN7w0Me27AxzkbQurUXWv2G4i+O4zOyE+9duDMOVqY9XkakPP5ThbB43vLhj+bLrhw03fcNCfPWYei8tseT1XFfSGU5len36Nxq+tE7Sp07Qay1Mw77vYQxHVs65W1wmnDunYeZ+moROqNVM8voLQ1k04Xx03/kINxnWK2Wtlqk1bKJg82buTnfMcN4txlIty03ovqGTyMXNYy/hp/17lnzfyN4Qwl8xPN4aw8c2a7Y6TM8ir/0nk5QX5/Qi4anuu1rXsk/fZ+Fdq/TdlMquvlulk2Voitu+hzFM41XNYLmFklR/d20e1Ry7PaQeOfIucah97JZ6ktDuylNZXJ98Nb9bDM9JMq82FOeV2azM0zTNc1vvHnvuXhrqwbI63z6kMW1YqMU2kzBtyZ0YbUTMifxpw/9W5d+Te/r8zLDjva9Xp0Xp9nANcz3Ye71+i8EyztVp4w7sbrhetZiCasyqeFMI7zN0BOsYVvHLE93DGObvQc1ON8WSTqqEVtej1zYPKkxk9ofHBhUjuyGc6pS3xfXIjvR/DDPf96PiqLLa5uFpeyhMc/Q6NPS9yxyqSQ13wL3IZ/+pHAa+w8o1dxhbnKo71ih37DQaa/jl1YehXnPje2n97p+VkKeOSe/fJdyTy37TbOxmy3pTN71x7jgtNO1pMckHy/eq4czcGTL9uOdFKp90UurO+6LZZ3NJgttC+HNDe2vWN4trhoUUTxK+6crQ3Yo3oQzyuiOSY9h8U2aLN2yk3m8YVnuOu8zsvTR5aNG9SplmwxidVBosRb5GprKQsM3gSPIbQ/gbhvaq785a/bYQ3evZ7r2Db5yroJr73D5pmasw2VfZZLDN/sFKGOMnhtIYLq1Jn/XpFcMvUzO8VusLTqR6J/rB7kdHIJd/f1zgW8N95mfPF+qPmR+1b3FnnumDWNjDpWPQrcj+uSsH2Vk94PZ2D3wvzrJ2Ey774nfw/zT40BAfGuJDQ3xoiA8N8aEhPjTEh4b40BAfGuJDQ3xoiA8N8aEhPjTEh4b40BAfGuJDQ3xoiA8N8aEhPjTEh4b40BAfGuJDQ3xoiA8N8aEhPjTEh4b40BAfGuJDQ3xoiA8N8aEhPjTEh4b40BAfGuJDQ3xoiA8N8aEhPjTEh4b40BAfGuIz8baTv832P5X7LtwUH+IEAAAAAElFTkSuQmCC&quot; width=&quot;960px&quot; height=&quot;640px&quot; alt=&quot;&quot;&gt;&lt;/img&gt;\",\"width\":960},\"id\":\"1216\",\"type\":\"panel.models.markup.HTML\"},{\"attributes\":{\"css_classes\":[\"markdown\"],\"margin\":[5,5,5,5],\"name\":\"Markdown00771\",\"text\":\"&lt;h2&gt;Status of rendering full video&lt;/h2&gt;\\n&lt;p&gt;&amp;lsquo;ActionExample&amp;rsquo; object has no attribute &amp;lsquo;annotation&amp;rsquo;&lt;/p&gt;\"},\"id\":\"1228\",\"type\":\"panel.models.markup.HTML\"},{\"attributes\":{\"children\":[{\"id\":\"1215\"},{\"id\":\"1216\"}],\"margin\":[0,0,0,0],\"name\":\"Column00749\"},\"id\":\"1214\",\"type\":\"Column\"},{\"attributes\":{\"children\":[{\"id\":\"1169\"},{\"id\":\"1170\"}],\"margin\":[0,0,0,0],\"name\":\"Column00709\"},\"id\":\"1168\",\"type\":\"Column\"},{\"attributes\":{\"children\":[{\"id\":\"1174\"}],\"margin\":[0,0,0,0],\"name\":\"Row00724\"},\"id\":\"1173\",\"type\":\"Row\"},{\"attributes\":{\"css_classes\":[\"markdown\"],\"margin\":[5,5,5,5],\"name\":\"Markdown00752\",\"text\":\"&lt;h3&gt;Draw full video&lt;/h3&gt;\"},\"id\":\"1218\",\"type\":\"panel.models.markup.HTML\"},{\"attributes\":{\"css_classes\":[\"markdown\"],\"margin\":[0,0,0,0],\"name\":\"Markdown00418\",\"text\":\"&lt;h3&gt;Selected files&lt;/h3&gt;\"},\"id\":\"1205\",\"type\":\"panel.models.markup.HTML\"},{\"attributes\":{\"children\":[{\"id\":\"1172\"}],\"margin\":[0,0,0,0],\"name\":\"Row00714\"},\"id\":\"1171\",\"type\":\"Row\"},{\"attributes\":{\"css_classes\":[\"markdown\"],\"margin\":[5,5,5,5],\"name\":\"Markdown00733\",\"text\":\"&lt;h3&gt;Preview from video&lt;/h3&gt;\"},\"id\":\"1210\",\"type\":\"panel.models.markup.HTML\"},{\"attributes\":{\"disabled\":true,\"icon\":null,\"label\":\"\\u25c0\",\"margin\":[5,10,0,0],\"min_width\":25,\"subscribed_events\":[\"button_click\"],\"width\":25},\"id\":\"1186\",\"type\":\"Button\"},{\"attributes\":{\"end\":30,\"margin\":[5,10,5,10],\"start\":1,\"title\":\"Sampling rate (fps). Small fps helps rendering faster\",\"value\":29},\"id\":\"1222\",\"type\":\"Slider\"},{\"attributes\":{\"margin\":[5,10,5,10],\"options\":[\"1\",\"2\",\"3\",\"4\",\"5\",\"6\",\"7\",\"8\",\"9\",\"10\",\"11\",\"12\",\"13\",\"14\",\"15\",\"16\",\"17\",\"18\",\"19\"],\"title\":\"Grid Column\",\"value\":\"1\"},\"id\":\"1180\",\"type\":\"Select\"},{\"attributes\":{\"children\":[{\"id\":\"1194\"},{\"id\":\"1198\"},{\"id\":\"1204\"}],\"margin\":[0,0,0,0],\"name\":\"\",\"sizing_mode\":\"stretch_both\",\"width\":600},\"id\":\"1193\",\"type\":\"Row\"},{\"attributes\":{\"icon\":null,\"label\":\"<<\",\"margin\":[5,10,5,10],\"min_width\":50,\"subscribed_events\":[\"button_click\"],\"width\":50},\"id\":\"1202\",\"type\":\"Button\"},{\"attributes\":{\"children\":[{\"id\":\"1221\"}],\"margin\":[0,0,0,0],\"name\":\"Row00759\"},\"id\":\"1220\",\"type\":\"Row\"},{\"attributes\":{\"children\":[{\"id\":\"1195\"},{\"id\":\"1196\"},{\"id\":\"1197\"}],\"margin\":[0,0,0,0],\"name\":\"Column00404\",\"sizing_mode\":\"stretch_both\"},\"id\":\"1194\",\"type\":\"Column\"},{\"attributes\":{\"children\":[{\"id\":\"1224\"}],\"margin\":[0,0,0,0],\"name\":\"Row00765\"},\"id\":\"1223\",\"type\":\"Row\"},{\"attributes\":{\"children\":[{\"id\":\"1226\"}],\"margin\":[0,0,0,0],\"name\":\"Row00775\"},\"id\":\"1225\",\"type\":\"Row\"},{\"attributes\":{\"disabled\":true,\"icon\":null,\"label\":\"\\u2b07\",\"margin\":[5,10,0,0],\"min_width\":25,\"subscribed_events\":[\"button_click\"],\"width\":25},\"id\":\"1190\",\"type\":\"Button\"},{\"attributes\":{\"children\":[{\"id\":\"1205\"},{\"id\":\"1206\"},{\"id\":\"1207\"}],\"margin\":[0,0,0,0],\"name\":\"Column00405\",\"sizing_mode\":\"stretch_both\"},\"id\":\"1204\",\"type\":\"Column\"},{\"attributes\":{\"margin\":[0,0,0,0],\"options\":[\"\\ud83d\\udcc1env\",\"\\ud83d\\udcc1tmp\",\"RedBalloon_clip1_excerpt.mov\",\"Exp51BillsDemo.mov\",\"README.md\",\"README.txt\",\"RedBalloon PlotPoints Demo.mov\",\"RedBalloon_clip1_exp59_trimmed_shifted_seconds.txt\",\"__temp__.mp4\",\"e51_A_cut.mov\",\"e51_bills.csv\",\"environment_overlay.yml\",\"overlay1.avi\",\"overlay2.avi\",\"overlay2.mp4\",\"overlay2.wav\",\"overlay2_new.avi\",\"overlay2_new.mp4\",\"overlay2_new.wav\",\"overlay_data_on_video_1.ipynb\",\"overlay_data_on_video_2.ipynb\",\"preview.png\"],\"size\":10,\"sizing_mode\":\"stretch_both\"},\"id\":\"1197\",\"type\":\"MultiSelect\"},{\"attributes\":{\"children\":[{\"id\":\"1212\"},{\"id\":\"1213\"}],\"margin\":[0,0,0,0],\"name\":\"Column00751\"},\"id\":\"1211\",\"type\":\"Column\"},{\"attributes\":{\"css_classes\":[\"markdown\"],\"margin\":[5,5,5,5],\"name\":\"Markdown00720\",\"text\":\"&lt;h2&gt;[Errno 2] No such file or directory: &amp;lsquo;None&amp;rsquo;&lt;/h2&gt;\"},\"id\":\"1176\",\"type\":\"panel.models.markup.HTML\"},{\"attributes\":{\"icon\":null,\"label\":\">>\",\"margin\":[5,10,5,10],\"min_width\":50,\"subscribed_events\":[\"button_click\"],\"width\":50},\"id\":\"1201\",\"type\":\"Button\"},{\"attributes\":{\"height\":100,\"margin\":[5,10,5,10],\"sizing_mode\":\"fixed\",\"title\":\"Select labels to plot\",\"width\":500},\"id\":\"1178\",\"type\":\"MultiSelect\"},{\"attributes\":{\"children\":[{\"id\":\"1218\"}],\"margin\":[0,0,0,0],\"name\":\"Row00754\"},\"id\":\"1217\",\"type\":\"Row\"},{\"attributes\":{\"icon\":null,\"label\":\"Render Preview\",\"margin\":[5,10,5,10],\"subscribed_events\":[\"button_click\"]},\"id\":\"1212\",\"type\":\"Button\"},{\"attributes\":{\"disabled\":true,\"icon\":null,\"label\":\"\\u25b6\",\"margin\":[5,10,5,10],\"min_width\":25,\"subscribed_events\":[\"button_click\"],\"width\":25},\"id\":\"1187\",\"type\":\"Button\"},{\"attributes\":{\"margin\":[5,5,5,5],\"name\":\"Str00757\"},\"id\":\"1221\",\"type\":\"panel.models.markup.HTML\"},{\"attributes\":{\"margin\":[5,5,5,5],\"name\":\"Str00727\"},\"id\":\"1182\",\"type\":\"panel.models.markup.HTML\"},{\"attributes\":{\"margin\":[0,0,10,0],\"max_length\":5000,\"placeholder\":\"Filter available options\",\"width_policy\":\"max\"},\"id\":\"1196\",\"type\":\"TextInput\"},{\"attributes\":{\"client_comm_id\":\"64bcacd8c66b44de9606bc173442b5be\",\"comm_id\":\"c983c15ee8d24aa099d3aa46193f6cd7\",\"plot_id\":\"1167\"},\"id\":\"1229\",\"type\":\"panel.models.comm_manager.CommManager\"},{\"attributes\":{\"icon\":null,\"label\":\"Draw\",\"margin\":[5,10,5,10],\"subscribed_events\":[\"button_click\"]},\"id\":\"1224\",\"type\":\"Button\"},{\"attributes\":{\"disabled\":true,\"margin\":[0,0,0,0],\"max_length\":5000,\"placeholder\":\"To select an item highlight it on the left and use the arrow button to move it to the right.\",\"sizing_mode\":\"stretch_both\"},\"id\":\"1207\",\"type\":\"TextAreaInput\"},{\"attributes\":{\"disabled\":true,\"icon\":null,\"label\":\"\\u2b06\",\"margin\":[5,10,5,10],\"min_width\":25,\"subscribed_events\":[\"button_click\"],\"width\":25},\"id\":\"1188\",\"type\":\"Button\"},{\"attributes\":{\"css_classes\":[\"markdown\"],\"margin\":[5,5,5,5],\"name\":\"Markdown00747\",\"text\":\"&lt;h2&gt;Status of Rendering&lt;/h2&gt;\\n&lt;p&gt;&amp;lsquo;ActionExample&amp;rsquo; object has no attribute &amp;lsquo;annotation&amp;rsquo;&lt;/p&gt;\"},\"id\":\"1215\",\"type\":\"panel.models.markup.HTML\"},{\"attributes\":{\"children\":[{\"id\":\"1185\"},{\"id\":\"1192\"},{\"id\":\"1193\"}],\"margin\":[5,10,20,10],\"name\":\"Input video\",\"sizing_mode\":\"stretch_width\"},\"id\":\"1184\",\"type\":\"Column\"},{\"attributes\":{\"css_classes\":[\"markdown\"],\"margin\":[5,5,5,5],\"name\":\"Markdown00707\",\"text\":\"&lt;p&gt;Annotation file (.txt)&lt;/p&gt;\"},\"id\":\"1169\",\"type\":\"panel.models.markup.HTML\"},{\"attributes\":{\"accept\":\".txt\",\"margin\":[5,10,5,10]},\"id\":\"1170\",\"type\":\"FileInput\"},{\"attributes\":{\"children\":[{\"id\":\"1199\"},{\"id\":\"1200\"},{\"id\":\"1203\"}],\"margin\":[0,0,0,0],\"name\":\"Column00409\"},\"id\":\"1198\",\"type\":\"Column\"},{\"attributes\":{\"margin\":[5,10,5,10],\"max_length\":5000,\"placeholder\":\"Output video path (*.avi)\",\"title\":\"Output video (.avi)\",\"value\":\"overlay2.avi\"},\"id\":\"1208\",\"type\":\"TextInput\"},{\"attributes\":{\"margin\":[0,0,0,0],\"name\":\"Divider00417\",\"style\":{\"height\":\"100%\",\"width\":\"100%\"},\"text\":\"<hr style=\\\"margin: 0px\\\">\",\"width_policy\":\"fit\"},\"id\":\"1192\",\"type\":\"Div\"},{\"attributes\":{\"children\":[{\"id\":\"1184\"},{\"id\":\"1208\"}],\"margin\":[0,0,0,0],\"name\":\"Column00732\"},\"id\":\"1183\",\"type\":\"Column\"},{\"attributes\":{\"children\":[{\"id\":\"1182\"}],\"margin\":[0,0,0,0],\"name\":\"Row00729\"},\"id\":\"1181\",\"type\":\"Row\"},{\"attributes\":{\"children\":[{\"id\":\"1178\"},{\"id\":\"1179\"}],\"margin\":[0,0,0,0],\"name\":\"Row00731\"},\"id\":\"1177\",\"type\":\"Row\"},{\"attributes\":{\"children\":[{\"id\":\"1214\"}],\"margin\":[0,0,0,0],\"name\":\"Row00744\"},\"id\":\"1213\",\"type\":\"Row\"},{\"attributes\":{\"children\":[{\"id\":\"1227\"}],\"margin\":[0,0,0,0],\"name\":\"Row00770\"},\"id\":\"1226\",\"type\":\"Row\"},{\"attributes\":{\"children\":[{\"id\":\"1201\"},{\"id\":\"1202\"}],\"margin\":[0,5,0,5],\"name\":\"Column00406\"},\"id\":\"1200\",\"type\":\"Column\"},{\"attributes\":{\"children\":[{\"id\":\"1210\"}],\"margin\":[0,0,0,0],\"name\":\"Row00735\"},\"id\":\"1209\",\"type\":\"Row\"},{\"attributes\":{\"children\":[{\"id\":\"1180\"},{\"id\":\"1181\"}],\"margin\":[0,0,0,0],\"name\":\"Column00730\"},\"id\":\"1179\",\"type\":\"Column\"},{\"attributes\":{\"children\":[{\"id\":\"1220\"},{\"id\":\"1222\"}],\"margin\":[0,0,0,0],\"name\":\"Row00760\"},\"id\":\"1219\",\"type\":\"Row\"},{\"attributes\":{\"margin\":[5,5,5,5],\"name\":\"VSpacer00407\",\"sizing_mode\":\"stretch_height\"},\"id\":\"1199\",\"type\":\"Spacer\"},{\"attributes\":{\"margin\":[5,5,5,5],\"name\":\"VSpacer00408\",\"sizing_mode\":\"stretch_height\"},\"id\":\"1203\",\"type\":\"Spacer\"},{\"attributes\":{\"children\":[{\"id\":\"1176\"}],\"margin\":[0,0,0,0],\"name\":\"Row00722\"},\"id\":\"1175\",\"type\":\"Row\"},{\"attributes\":{\"css_classes\":[\"markdown\"],\"margin\":[0,0,0,0],\"name\":\"Markdown00420\",\"text\":\"&lt;h3&gt;File Browser&lt;/h3&gt;\"},\"id\":\"1195\",\"type\":\"panel.models.markup.HTML\"},{\"attributes\":{\"icon\":null,\"label\":\"\\u21bb\",\"margin\":[5,15,0,10],\"min_width\":25,\"subscribed_events\":[\"button_click\"],\"width\":25},\"id\":\"1191\",\"type\":\"Button\"},{\"attributes\":{\"margin\":[0,0,10,0],\"max_length\":5000,\"placeholder\":\"Filter selected options\",\"width_policy\":\"max\"},\"id\":\"1206\",\"type\":\"TextInput\"},{\"attributes\":{\"children\":[{\"id\":\"1228\"}],\"margin\":[0,0,0,0],\"name\":\"Row00773\"},\"id\":\"1227\",\"type\":\"Row\"}],\"root_ids\":[\"1167\",\"1229\"]},\"title\":\"Bokeh Application\",\"version\":\"2.3.3\"}};\n",
       "    var render_items = [{\"docid\":\"26645fd2-76ea-49ed-9a89-54f5ebd365a0\",\"root_ids\":[\"1167\"],\"roots\":{\"1167\":\"4ecdb3ea-ed05-4fe7-9e49-44396d2cacdc\"}}];\n",
       "    root.Bokeh.embed.embed_items_notebook(docs_json, render_items);\n",
       "  }\n",
       "  if (root.Bokeh !== undefined && root.Bokeh.Panel !== undefined) {\n",
       "    embed_document(root);\n",
       "  } else {\n",
       "    var attempts = 0;\n",
       "    var timer = setInterval(function(root) {\n",
       "      if (root.Bokeh !== undefined && root.Bokeh.Panel !== undefined) {\n",
       "        clearInterval(timer);\n",
       "        embed_document(root);\n",
       "      } else if (document.readyState == \"complete\") {\n",
       "        attempts++;\n",
       "        if (attempts > 100) {\n",
       "          clearInterval(timer);\n",
       "          console.log(\"Bokeh: ERROR: Unable to run BokehJS code because BokehJS library is missing\");\n",
       "        }\n",
       "      }\n",
       "    }, 10, root)\n",
       "  }\n",
       "})(window);</script>"
      ],
      "text/plain": [
       "Column\n",
       "    [0] Column\n",
       "        [0] Markdown(str)\n",
       "        [1] FileInput(accept='.txt')\n",
       "    [1] Row\n",
       "        [0] Button(name='Import Annotation')\n",
       "    [2] Row\n",
       "        [0] ParamMethod(method)\n",
       "    [3] Row\n",
       "        [0] MultiSelect(height=100, name='Select labels to plot', sizing_mode='fixed', width=500)\n",
       "        [1] Column\n",
       "            [0] Select(name='Grid Column', options=[1, 2, 3, 4, 5, ...], value=1)\n",
       "            [1] ParamFunction(function)\n",
       "    [4] Column\n",
       "        [0] FileSelector(name='Input video', value=['RedBalloon_clip1_excerpt...])\n",
       "        [1] TextInput(name='Output video (.avi)', placeholder='Output video p..., value='overlay2.avi')\n",
       "    [5] Row\n",
       "        [0] Markdown(str)\n",
       "    [6] Column\n",
       "        [0] Button(name='Render Preview')\n",
       "        [1] ParamMethod(method)\n",
       "    [7] Row\n",
       "        [0] Markdown(str)\n",
       "    [8] Row\n",
       "        [0] ParamFunction(function)\n",
       "        [1] IntSlider(end=30, name='Sampling rate (..., start=1, value=29)\n",
       "    [9] Row\n",
       "        [0] Button(name='Draw')\n",
       "    [10] Row\n",
       "        [0] ParamMethod(method)"
      ]
     },
     "execution_count": 78,
     "metadata": {
      "application/vnd.holoviews_exec.v0+json": {
       "id": "1167"
      }
     },
     "output_type": "execute_result"
    }
   ],
   "source": [
    "dashboard = pn.Column(\n",
    "    pn.Column('Annotation file (.txt)', annotation_text),\n",
    "    pn.Row(action_video.param.import_annotation),\n",
    "    pn.Row(action_video.import_anno),\n",
    "    pn.Row(multi_label_select, pn.Column(column_count, update_row, \n",
    "    # pn.Column(f\"Inferred #rows (don't need to specify\", row_count)\n",
    "    )),\n",
    "    pn.Column(input_file, output_text),\n",
    "    pn.Row('### Preview from video'),\n",
    "    pn.Column(action_video.param.preview_button, action_video.render_preview),\n",
    "    pn.Row('### Draw full video'),\n",
    "    pn.Row(update_sampling_rate, sampling_rate),\n",
    "    pn.panel(action_video.param.draw_video),\n",
    "    # pn.panel(progress_bar),\n",
    "    pn.panel(action_video.matrix_visualize),\n",
    ")\n",
    "\n",
    "# Launch the dashboard\n",
    "dashboard.servable()\n"
   ]
  },
  {
   "cell_type": "code",
   "execution_count": 70,
   "metadata": {},
   "outputs": [
    {
     "ename": "AttributeError",
     "evalue": "'ActionExample' object has no attribute 'annotation'",
     "output_type": "error",
     "traceback": [
      "\u001b[1;31m---------------------------------------------------------------------------\u001b[0m",
      "\u001b[1;31mAttributeError\u001b[0m                            Traceback (most recent call last)",
      "\u001b[1;32m~\\AppData\\Local\\Temp/ipykernel_8568/1072208520.py\u001b[0m in \u001b[0;36m<module>\u001b[1;34m\u001b[0m\n\u001b[1;32m----> 1\u001b[1;33m \u001b[0maction_video\u001b[0m\u001b[1;33m.\u001b[0m\u001b[0mannotation\u001b[0m\u001b[1;33m\u001b[0m\u001b[1;33m\u001b[0m\u001b[0m\n\u001b[0m",
      "\u001b[1;31mAttributeError\u001b[0m: 'ActionExample' object has no attribute 'annotation'"
     ]
    }
   ],
   "source": [
    "action_video.annotation"
   ]
  },
  {
   "cell_type": "code",
   "execution_count": 60,
   "metadata": {},
   "outputs": [],
   "source": [
    "# annotation_text.filename = 'RedBalloon_clip1_exp59_trimmed_shifted_seconds.txt'\n",
    "# action_video.import_anno()\n",
    "# multi_label_select.value = multi_label_select.options\n",
    "# column_count.value = 1\n",
    "# action_video.render_preview()"
   ]
  },
  {
   "cell_type": "code",
   "execution_count": 10,
   "metadata": {},
   "outputs": [
    {
     "name": "stdout",
     "output_type": "stream",
     "text": [
      "Loading annotation file=RedBalloon_clip1_exp59_trimmed_shifted_seconds.txt\n",
      "Loaded annotation file=RedBalloon_clip1_exp59_trimmed_shifted_seconds.txt\n",
      "Processing frame 0...\n",
      "Processing frame 30...\n",
      "Processing frame 60...\n",
      "Processing frame 90...\n",
      "Processing frame 120...\n",
      "Processing frame 150...\n",
      "Processing frame 180...\n"
     ]
    },
    {
     "ename": "KeyboardInterrupt",
     "evalue": "",
     "output_type": "error",
     "traceback": [
      "\u001b[1;31m---------------------------------------------------------------------------\u001b[0m",
      "\u001b[1;31mKeyboardInterrupt\u001b[0m                         Traceback (most recent call last)",
      "\u001b[1;32m~\\AppData\\Local\\Temp/ipykernel_8808/2176358471.py\u001b[0m in \u001b[0;36m<module>\u001b[1;34m\u001b[0m\n\u001b[0;32m      4\u001b[0m \u001b[0mmulti_label_select\u001b[0m\u001b[1;33m.\u001b[0m\u001b[0mvalue\u001b[0m \u001b[1;33m=\u001b[0m \u001b[0mmulti_label_select\u001b[0m\u001b[1;33m.\u001b[0m\u001b[0moptions\u001b[0m\u001b[1;33m\u001b[0m\u001b[1;33m\u001b[0m\u001b[0m\n\u001b[0;32m      5\u001b[0m \u001b[0mcolumn_count\u001b[0m\u001b[1;33m.\u001b[0m\u001b[0mvalue\u001b[0m \u001b[1;33m=\u001b[0m \u001b[1;36m1\u001b[0m\u001b[1;33m\u001b[0m\u001b[1;33m\u001b[0m\u001b[0m\n\u001b[1;32m----> 6\u001b[1;33m \u001b[0maction_video\u001b[0m\u001b[1;33m.\u001b[0m\u001b[0mmatrix_visualize\u001b[0m\u001b[1;33m(\u001b[0m\u001b[1;33m)\u001b[0m\u001b[1;33m\u001b[0m\u001b[1;33m\u001b[0m\u001b[0m\n\u001b[0m",
      "\u001b[1;32m~\\anaconda3\\envs\\viz\\lib\\site-packages\\param\\parameterized.py\u001b[0m in \u001b[0;36m_depends\u001b[1;34m(*args, **kw)\u001b[0m\n\u001b[0;32m    385\u001b[0m     \u001b[1;33m@\u001b[0m\u001b[0mwraps\u001b[0m\u001b[1;33m(\u001b[0m\u001b[0mfunc\u001b[0m\u001b[1;33m)\u001b[0m\u001b[1;33m\u001b[0m\u001b[1;33m\u001b[0m\u001b[0m\n\u001b[0;32m    386\u001b[0m     \u001b[1;32mdef\u001b[0m \u001b[0m_depends\u001b[0m\u001b[1;33m(\u001b[0m\u001b[1;33m*\u001b[0m\u001b[0margs\u001b[0m\u001b[1;33m,\u001b[0m \u001b[1;33m**\u001b[0m\u001b[0mkw\u001b[0m\u001b[1;33m)\u001b[0m\u001b[1;33m:\u001b[0m\u001b[1;33m\u001b[0m\u001b[1;33m\u001b[0m\u001b[0m\n\u001b[1;32m--> 387\u001b[1;33m         \u001b[1;32mreturn\u001b[0m \u001b[0mfunc\u001b[0m\u001b[1;33m(\u001b[0m\u001b[1;33m*\u001b[0m\u001b[0margs\u001b[0m\u001b[1;33m,\u001b[0m \u001b[1;33m**\u001b[0m\u001b[0mkw\u001b[0m\u001b[1;33m)\u001b[0m\u001b[1;33m\u001b[0m\u001b[1;33m\u001b[0m\u001b[0m\n\u001b[0m\u001b[0;32m    388\u001b[0m \u001b[1;33m\u001b[0m\u001b[0m\n\u001b[0;32m    389\u001b[0m     \u001b[0mdeps\u001b[0m \u001b[1;33m=\u001b[0m \u001b[0mlist\u001b[0m\u001b[1;33m(\u001b[0m\u001b[0mdependencies\u001b[0m\u001b[1;33m)\u001b[0m\u001b[1;33m+\u001b[0m\u001b[0mlist\u001b[0m\u001b[1;33m(\u001b[0m\u001b[0mkw\u001b[0m\u001b[1;33m.\u001b[0m\u001b[0mvalues\u001b[0m\u001b[1;33m(\u001b[0m\u001b[1;33m)\u001b[0m\u001b[1;33m)\u001b[0m\u001b[1;33m\u001b[0m\u001b[1;33m\u001b[0m\u001b[0m\n",
      "\u001b[1;32m~\\AppData\\Local\\Temp/ipykernel_8808/1427126873.py\u001b[0m in \u001b[0;36mmatrix_visualize\u001b[1;34m(self)\u001b[0m\n\u001b[0;32m    132\u001b[0m                     \u001b[1;32mcontinue\u001b[0m\u001b[1;33m\u001b[0m\u001b[1;33m\u001b[0m\u001b[0m\n\u001b[0;32m    133\u001b[0m \u001b[1;33m\u001b[0m\u001b[0m\n\u001b[1;32m--> 134\u001b[1;33m                 \u001b[0mimg\u001b[0m \u001b[1;33m=\u001b[0m \u001b[0mself\u001b[0m\u001b[1;33m.\u001b[0m\u001b[0mprocess_frame\u001b[0m\u001b[1;33m(\u001b[0m\u001b[0mframe_id\u001b[0m\u001b[1;33m,\u001b[0m \u001b[0mframe\u001b[0m\u001b[1;33m=\u001b[0m\u001b[0mframe\u001b[0m\u001b[1;33m)\u001b[0m\u001b[1;33m\u001b[0m\u001b[1;33m\u001b[0m\u001b[0m\n\u001b[0m\u001b[0;32m    135\u001b[0m                 \u001b[1;32mif\u001b[0m \u001b[0mcv2_writer\u001b[0m \u001b[1;32mis\u001b[0m \u001b[1;32mNone\u001b[0m\u001b[1;33m:\u001b[0m\u001b[1;33m\u001b[0m\u001b[1;33m\u001b[0m\u001b[0m\n\u001b[0;32m    136\u001b[0m                     \u001b[0mfourcc\u001b[0m \u001b[1;33m=\u001b[0m \u001b[0mcv2\u001b[0m\u001b[1;33m.\u001b[0m\u001b[0mVideoWriter_fourcc\u001b[0m\u001b[1;33m(\u001b[0m\u001b[1;33m*\u001b[0m\u001b[1;34m'XVID'\u001b[0m\u001b[1;33m)\u001b[0m\u001b[1;33m\u001b[0m\u001b[1;33m\u001b[0m\u001b[0m\n",
      "\u001b[1;32m~\\AppData\\Local\\Temp/ipykernel_8808/1427126873.py\u001b[0m in \u001b[0;36mprocess_frame\u001b[1;34m(self, frame_id, frame)\u001b[0m\n\u001b[0;32m     71\u001b[0m         \u001b[0mtmp_path\u001b[0m \u001b[1;33m=\u001b[0m \u001b[1;34mf'./tmp/tmp_{np.random.randint(100)}.png'\u001b[0m\u001b[1;33m\u001b[0m\u001b[1;33m\u001b[0m\u001b[0m\n\u001b[0;32m     72\u001b[0m         \u001b[1;31m# plt.axis('off')\u001b[0m\u001b[1;33m\u001b[0m\u001b[1;33m\u001b[0m\u001b[1;33m\u001b[0m\u001b[0m\n\u001b[1;32m---> 73\u001b[1;33m         \u001b[0mplt\u001b[0m\u001b[1;33m.\u001b[0m\u001b[0msavefig\u001b[0m\u001b[1;33m(\u001b[0m\u001b[0mtmp_path\u001b[0m\u001b[1;33m,\u001b[0m \u001b[0mbbox_inches\u001b[0m\u001b[1;33m=\u001b[0m\u001b[1;34m'tight'\u001b[0m\u001b[1;33m,\u001b[0m \u001b[0mpad_inches\u001b[0m \u001b[1;33m=\u001b[0m \u001b[1;36m0\u001b[0m\u001b[1;33m)\u001b[0m\u001b[1;33m\u001b[0m\u001b[1;33m\u001b[0m\u001b[0m\n\u001b[0m\u001b[0;32m     74\u001b[0m         \u001b[1;31m# plt.savefig(tmp_path)\u001b[0m\u001b[1;33m\u001b[0m\u001b[1;33m\u001b[0m\u001b[1;33m\u001b[0m\u001b[0m\n\u001b[0;32m     75\u001b[0m         \u001b[0mimg\u001b[0m \u001b[1;33m=\u001b[0m \u001b[0mcv2\u001b[0m\u001b[1;33m.\u001b[0m\u001b[0mimread\u001b[0m\u001b[1;33m(\u001b[0m\u001b[0mtmp_path\u001b[0m\u001b[1;33m)\u001b[0m\u001b[1;33m\u001b[0m\u001b[1;33m\u001b[0m\u001b[0m\n",
      "\u001b[1;32m~\\anaconda3\\envs\\viz\\lib\\site-packages\\matplotlib\\pyplot.py\u001b[0m in \u001b[0;36msavefig\u001b[1;34m(*args, **kwargs)\u001b[0m\n\u001b[0;32m    956\u001b[0m \u001b[1;32mdef\u001b[0m \u001b[0msavefig\u001b[0m\u001b[1;33m(\u001b[0m\u001b[1;33m*\u001b[0m\u001b[0margs\u001b[0m\u001b[1;33m,\u001b[0m \u001b[1;33m**\u001b[0m\u001b[0mkwargs\u001b[0m\u001b[1;33m)\u001b[0m\u001b[1;33m:\u001b[0m\u001b[1;33m\u001b[0m\u001b[1;33m\u001b[0m\u001b[0m\n\u001b[0;32m    957\u001b[0m     \u001b[0mfig\u001b[0m \u001b[1;33m=\u001b[0m \u001b[0mgcf\u001b[0m\u001b[1;33m(\u001b[0m\u001b[1;33m)\u001b[0m\u001b[1;33m\u001b[0m\u001b[1;33m\u001b[0m\u001b[0m\n\u001b[1;32m--> 958\u001b[1;33m     \u001b[0mres\u001b[0m \u001b[1;33m=\u001b[0m \u001b[0mfig\u001b[0m\u001b[1;33m.\u001b[0m\u001b[0msavefig\u001b[0m\u001b[1;33m(\u001b[0m\u001b[1;33m*\u001b[0m\u001b[0margs\u001b[0m\u001b[1;33m,\u001b[0m \u001b[1;33m**\u001b[0m\u001b[0mkwargs\u001b[0m\u001b[1;33m)\u001b[0m\u001b[1;33m\u001b[0m\u001b[1;33m\u001b[0m\u001b[0m\n\u001b[0m\u001b[0;32m    959\u001b[0m     \u001b[0mfig\u001b[0m\u001b[1;33m.\u001b[0m\u001b[0mcanvas\u001b[0m\u001b[1;33m.\u001b[0m\u001b[0mdraw_idle\u001b[0m\u001b[1;33m(\u001b[0m\u001b[1;33m)\u001b[0m   \u001b[1;31m# need this if 'transparent=True' to reset colors\u001b[0m\u001b[1;33m\u001b[0m\u001b[1;33m\u001b[0m\u001b[0m\n\u001b[0;32m    960\u001b[0m     \u001b[1;32mreturn\u001b[0m \u001b[0mres\u001b[0m\u001b[1;33m\u001b[0m\u001b[1;33m\u001b[0m\u001b[0m\n",
      "\u001b[1;32m~\\anaconda3\\envs\\viz\\lib\\site-packages\\matplotlib\\figure.py\u001b[0m in \u001b[0;36msavefig\u001b[1;34m(self, fname, transparent, **kwargs)\u001b[0m\n\u001b[0;32m   3010\u001b[0m                         ax.patch._cm_set(facecolor='none', edgecolor='none'))\n\u001b[0;32m   3011\u001b[0m \u001b[1;33m\u001b[0m\u001b[0m\n\u001b[1;32m-> 3012\u001b[1;33m             \u001b[0mself\u001b[0m\u001b[1;33m.\u001b[0m\u001b[0mcanvas\u001b[0m\u001b[1;33m.\u001b[0m\u001b[0mprint_figure\u001b[0m\u001b[1;33m(\u001b[0m\u001b[0mfname\u001b[0m\u001b[1;33m,\u001b[0m \u001b[1;33m**\u001b[0m\u001b[0mkwargs\u001b[0m\u001b[1;33m)\u001b[0m\u001b[1;33m\u001b[0m\u001b[1;33m\u001b[0m\u001b[0m\n\u001b[0m\u001b[0;32m   3013\u001b[0m \u001b[1;33m\u001b[0m\u001b[0m\n\u001b[0;32m   3014\u001b[0m     def ginput(self, n=1, timeout=30, show_clicks=True,\n",
      "\u001b[1;32m~\\anaconda3\\envs\\viz\\lib\\site-packages\\matplotlib\\backend_bases.py\u001b[0m in \u001b[0;36mprint_figure\u001b[1;34m(self, filename, dpi, facecolor, edgecolor, orientation, format, bbox_inches, pad_inches, bbox_extra_artists, backend, **kwargs)\u001b[0m\n\u001b[0;32m   2318\u001b[0m                         \u001b[0morientation\u001b[0m\u001b[1;33m=\u001b[0m\u001b[0morientation\u001b[0m\u001b[1;33m,\u001b[0m\u001b[1;33m\u001b[0m\u001b[1;33m\u001b[0m\u001b[0m\n\u001b[0;32m   2319\u001b[0m                         \u001b[0mbbox_inches_restore\u001b[0m\u001b[1;33m=\u001b[0m\u001b[0m_bbox_inches_restore\u001b[0m\u001b[1;33m,\u001b[0m\u001b[1;33m\u001b[0m\u001b[1;33m\u001b[0m\u001b[0m\n\u001b[1;32m-> 2320\u001b[1;33m                         **kwargs)\n\u001b[0m\u001b[0;32m   2321\u001b[0m             \u001b[1;32mfinally\u001b[0m\u001b[1;33m:\u001b[0m\u001b[1;33m\u001b[0m\u001b[1;33m\u001b[0m\u001b[0m\n\u001b[0;32m   2322\u001b[0m                 \u001b[1;32mif\u001b[0m \u001b[0mbbox_inches\u001b[0m \u001b[1;32mand\u001b[0m \u001b[0mrestore_bbox\u001b[0m\u001b[1;33m:\u001b[0m\u001b[1;33m\u001b[0m\u001b[1;33m\u001b[0m\u001b[0m\n",
      "\u001b[1;32m~\\anaconda3\\envs\\viz\\lib\\site-packages\\matplotlib\\backend_bases.py\u001b[0m in \u001b[0;36mwrapper\u001b[1;34m(*args, **kwargs)\u001b[0m\n\u001b[0;32m   1641\u001b[0m             \u001b[0mkwargs\u001b[0m\u001b[1;33m.\u001b[0m\u001b[0mpop\u001b[0m\u001b[1;33m(\u001b[0m\u001b[0marg\u001b[0m\u001b[1;33m)\u001b[0m\u001b[1;33m\u001b[0m\u001b[1;33m\u001b[0m\u001b[0m\n\u001b[0;32m   1642\u001b[0m \u001b[1;33m\u001b[0m\u001b[0m\n\u001b[1;32m-> 1643\u001b[1;33m         \u001b[1;32mreturn\u001b[0m \u001b[0mfunc\u001b[0m\u001b[1;33m(\u001b[0m\u001b[1;33m*\u001b[0m\u001b[0margs\u001b[0m\u001b[1;33m,\u001b[0m \u001b[1;33m**\u001b[0m\u001b[0mkwargs\u001b[0m\u001b[1;33m)\u001b[0m\u001b[1;33m\u001b[0m\u001b[1;33m\u001b[0m\u001b[0m\n\u001b[0m\u001b[0;32m   1644\u001b[0m \u001b[1;33m\u001b[0m\u001b[0m\n\u001b[0;32m   1645\u001b[0m     \u001b[1;32mreturn\u001b[0m \u001b[0mwrapper\u001b[0m\u001b[1;33m\u001b[0m\u001b[1;33m\u001b[0m\u001b[0m\n",
      "\u001b[1;32m~\\anaconda3\\envs\\viz\\lib\\site-packages\\matplotlib\\_api\\deprecation.py\u001b[0m in \u001b[0;36mwrapper\u001b[1;34m(*inner_args, **inner_kwargs)\u001b[0m\n\u001b[0;32m    410\u001b[0m                          \u001b[1;32melse\u001b[0m \u001b[0mdeprecation_addendum\u001b[0m\u001b[1;33m,\u001b[0m\u001b[1;33m\u001b[0m\u001b[1;33m\u001b[0m\u001b[0m\n\u001b[0;32m    411\u001b[0m                 **kwargs)\n\u001b[1;32m--> 412\u001b[1;33m         \u001b[1;32mreturn\u001b[0m \u001b[0mfunc\u001b[0m\u001b[1;33m(\u001b[0m\u001b[1;33m*\u001b[0m\u001b[0minner_args\u001b[0m\u001b[1;33m,\u001b[0m \u001b[1;33m**\u001b[0m\u001b[0minner_kwargs\u001b[0m\u001b[1;33m)\u001b[0m\u001b[1;33m\u001b[0m\u001b[1;33m\u001b[0m\u001b[0m\n\u001b[0m\u001b[0;32m    413\u001b[0m \u001b[1;33m\u001b[0m\u001b[0m\n\u001b[0;32m    414\u001b[0m     \u001b[0mDECORATORS\u001b[0m\u001b[1;33m[\u001b[0m\u001b[0mwrapper\u001b[0m\u001b[1;33m]\u001b[0m \u001b[1;33m=\u001b[0m \u001b[0mdecorator\u001b[0m\u001b[1;33m\u001b[0m\u001b[1;33m\u001b[0m\u001b[0m\n",
      "\u001b[1;32m~\\anaconda3\\envs\\viz\\lib\\site-packages\\matplotlib\\backends\\backend_agg.py\u001b[0m in \u001b[0;36mprint_png\u001b[1;34m(self, filename_or_obj, metadata, pil_kwargs, *args)\u001b[0m\n\u001b[0;32m    541\u001b[0m         mpl.image.imsave(\n\u001b[0;32m    542\u001b[0m             \u001b[0mfilename_or_obj\u001b[0m\u001b[1;33m,\u001b[0m \u001b[0mself\u001b[0m\u001b[1;33m.\u001b[0m\u001b[0mbuffer_rgba\u001b[0m\u001b[1;33m(\u001b[0m\u001b[1;33m)\u001b[0m\u001b[1;33m,\u001b[0m \u001b[0mformat\u001b[0m\u001b[1;33m=\u001b[0m\u001b[1;34m\"png\"\u001b[0m\u001b[1;33m,\u001b[0m \u001b[0morigin\u001b[0m\u001b[1;33m=\u001b[0m\u001b[1;34m\"upper\"\u001b[0m\u001b[1;33m,\u001b[0m\u001b[1;33m\u001b[0m\u001b[1;33m\u001b[0m\u001b[0m\n\u001b[1;32m--> 543\u001b[1;33m             dpi=self.figure.dpi, metadata=metadata, pil_kwargs=pil_kwargs)\n\u001b[0m\u001b[0;32m    544\u001b[0m \u001b[1;33m\u001b[0m\u001b[0m\n\u001b[0;32m    545\u001b[0m     \u001b[1;32mdef\u001b[0m \u001b[0mprint_to_buffer\u001b[0m\u001b[1;33m(\u001b[0m\u001b[0mself\u001b[0m\u001b[1;33m)\u001b[0m\u001b[1;33m:\u001b[0m\u001b[1;33m\u001b[0m\u001b[1;33m\u001b[0m\u001b[0m\n",
      "\u001b[1;32m~\\anaconda3\\envs\\viz\\lib\\site-packages\\matplotlib\\image.py\u001b[0m in \u001b[0;36mimsave\u001b[1;34m(fname, arr, vmin, vmax, cmap, format, origin, dpi, metadata, pil_kwargs)\u001b[0m\n\u001b[0;32m   1673\u001b[0m         \u001b[0mpil_kwargs\u001b[0m\u001b[1;33m.\u001b[0m\u001b[0msetdefault\u001b[0m\u001b[1;33m(\u001b[0m\u001b[1;34m\"format\"\u001b[0m\u001b[1;33m,\u001b[0m \u001b[0mformat\u001b[0m\u001b[1;33m)\u001b[0m\u001b[1;33m\u001b[0m\u001b[1;33m\u001b[0m\u001b[0m\n\u001b[0;32m   1674\u001b[0m         \u001b[0mpil_kwargs\u001b[0m\u001b[1;33m.\u001b[0m\u001b[0msetdefault\u001b[0m\u001b[1;33m(\u001b[0m\u001b[1;34m\"dpi\"\u001b[0m\u001b[1;33m,\u001b[0m \u001b[1;33m(\u001b[0m\u001b[0mdpi\u001b[0m\u001b[1;33m,\u001b[0m \u001b[0mdpi\u001b[0m\u001b[1;33m)\u001b[0m\u001b[1;33m)\u001b[0m\u001b[1;33m\u001b[0m\u001b[1;33m\u001b[0m\u001b[0m\n\u001b[1;32m-> 1675\u001b[1;33m         \u001b[0mimage\u001b[0m\u001b[1;33m.\u001b[0m\u001b[0msave\u001b[0m\u001b[1;33m(\u001b[0m\u001b[0mfname\u001b[0m\u001b[1;33m,\u001b[0m \u001b[1;33m**\u001b[0m\u001b[0mpil_kwargs\u001b[0m\u001b[1;33m)\u001b[0m\u001b[1;33m\u001b[0m\u001b[1;33m\u001b[0m\u001b[0m\n\u001b[0m\u001b[0;32m   1676\u001b[0m \u001b[1;33m\u001b[0m\u001b[0m\n\u001b[0;32m   1677\u001b[0m \u001b[1;33m\u001b[0m\u001b[0m\n",
      "\u001b[1;32m~\\anaconda3\\envs\\viz\\lib\\site-packages\\PIL\\Image.py\u001b[0m in \u001b[0;36msave\u001b[1;34m(self, fp, format, **params)\u001b[0m\n\u001b[0;32m   2235\u001b[0m                 \u001b[0mfp\u001b[0m \u001b[1;33m=\u001b[0m \u001b[0mbuiltins\u001b[0m\u001b[1;33m.\u001b[0m\u001b[0mopen\u001b[0m\u001b[1;33m(\u001b[0m\u001b[0mfilename\u001b[0m\u001b[1;33m,\u001b[0m \u001b[1;34m\"r+b\"\u001b[0m\u001b[1;33m)\u001b[0m\u001b[1;33m\u001b[0m\u001b[1;33m\u001b[0m\u001b[0m\n\u001b[0;32m   2236\u001b[0m             \u001b[1;32melse\u001b[0m\u001b[1;33m:\u001b[0m\u001b[1;33m\u001b[0m\u001b[1;33m\u001b[0m\u001b[0m\n\u001b[1;32m-> 2237\u001b[1;33m                 \u001b[0mfp\u001b[0m \u001b[1;33m=\u001b[0m \u001b[0mbuiltins\u001b[0m\u001b[1;33m.\u001b[0m\u001b[0mopen\u001b[0m\u001b[1;33m(\u001b[0m\u001b[0mfilename\u001b[0m\u001b[1;33m,\u001b[0m \u001b[1;34m\"w+b\"\u001b[0m\u001b[1;33m)\u001b[0m\u001b[1;33m\u001b[0m\u001b[1;33m\u001b[0m\u001b[0m\n\u001b[0m\u001b[0;32m   2238\u001b[0m \u001b[1;33m\u001b[0m\u001b[0m\n\u001b[0;32m   2239\u001b[0m         \u001b[1;32mtry\u001b[0m\u001b[1;33m:\u001b[0m\u001b[1;33m\u001b[0m\u001b[1;33m\u001b[0m\u001b[0m\n",
      "\u001b[1;31mKeyboardInterrupt\u001b[0m: "
     ]
    },
    {
     "data": {
      "image/png": "[encoded data removed]",
      "text/plain": [
       "<Figure size 864x432 with 6 Axes>"
      ]
     },
     "metadata": {
      "needs_background": "light"
     },
     "output_type": "display_data"
    }
   ],
   "source": [
    "annotation_text.filename = 'RedBalloon_clip1_exp59_trimmed_shifted_seconds.txt'\n",
    "action_video.import_anno()\n",
    "sampling_rate.value = 1\n",
    "multi_label_select.value = multi_label_select.options\n",
    "column_count.value = 1\n",
    "action_video.matrix_visualize()"
   ]
  },
  {
   "cell_type": "code",
   "execution_count": null,
   "metadata": {},
   "outputs": [],
   "source": [
    "# audio_path = os.path.splitext(output_text.value)[0] + '.wav'\n",
    "# print(f\"{output_text.value}\", audio_path, f\"{os.path.splitext(output_text.value)[0]}.mp4\")\n",
    "# clip = VideoFileClip(f\"{output_text.value}\")\n",
    "# audioclip = AudioFileClip(f\"{audio_path}\")\n",
    "# videoclip = clip.set_audio(audioclip)\n",
    "# videoclip.write_videofile(f\"{os.path.splitext(output_text.value)[0]}.mp4\")"
   ]
  },
  {
   "cell_type": "code",
   "execution_count": null,
   "metadata": {},
   "outputs": [],
   "source": [
    "# import moviepy\n",
    "# moviepy.__version__"
   ]
  },
  {
   "cell_type": "code",
   "execution_count": null,
   "metadata": {},
   "outputs": [],
   "source": [
    "# fig, axes = plt.subplots(2, 1, sharey=True)\n",
    "# for a in axes:\n",
    "#     # a.get_xaxis().set_visible(False)\n",
    "#     # a.get_yaxis().set_visible(False)\n",
    "#     a.set_title('coarse', x=-0.05, y=0.2, size=18, rotation=90)\n",
    "#     # a.set_axis_off()\n",
    "# # fig.axes('off')\n",
    "# fig.savefig('test1.png', bbox_inches='tight',pad_inches = 0)\n",
    "# fig.savefig('test.png', bbox_inches='tight',pad_inches = 0)"
   ]
  },
  {
   "cell_type": "code",
   "execution_count": null,
   "metadata": {},
   "outputs": [],
   "source": [
    "# import time\n",
    "# for i in range(10):\n",
    "#     time.sleep(0.1)\n",
    "#     progress_bar.value = i\n",
    "# pn.Row(progress_bar).servable()\n"
   ]
  },
  {
   "cell_type": "code",
   "execution_count": null,
   "metadata": {},
   "outputs": [],
   "source": []
  },
  {
   "cell_type": "code",
   "execution_count": null,
   "metadata": {},
   "outputs": [],
   "source": []
  },
  {
   "cell_type": "code",
   "execution_count": null,
   "metadata": {},
   "outputs": [],
   "source": []
  }
 ],
 "metadata": {
  "kernelspec": {
   "display_name": "Python 3",
   "language": "python",
   "name": "python3"
  },
  "language_info": {
   "codemirror_mode": {
    "name": "ipython",
    "version": 3
   },
   "file_extension": ".py",
   "mimetype": "text/x-python",
   "name": "python",
   "nbconvert_exporter": "python",
   "pygments_lexer": "ipython3",
   "version": "3.7.11"
  }
 },
 "nbformat": 4,
 "nbformat_minor": 1
}
